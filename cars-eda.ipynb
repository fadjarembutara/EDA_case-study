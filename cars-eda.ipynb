{
 "cells": [
  {
   "attachments": {},
   "cell_type": "markdown",
   "id": "553cd405",
   "metadata": {},
   "source": [
    "**Import Library**"
   ]
  },
  {
   "cell_type": "code",
   "execution_count": 5,
   "id": "ac800b7a",
   "metadata": {
    "_cell_guid": "b1076dfc-b9ad-4769-8c92-a6c4dae69d19",
    "_uuid": "8f2839f25d086af736a60e9eeb907d3b93b6e0e5",
    "execution": {
     "iopub.execute_input": "2023-03-16T20:30:47.909709Z",
     "iopub.status.busy": "2023-03-16T20:30:47.909334Z",
     "iopub.status.idle": "2023-03-16T20:30:47.925885Z",
     "shell.execute_reply": "2023-03-16T20:30:47.925048Z"
    },
    "papermill": {
     "duration": 0.026094,
     "end_time": "2023-03-16T20:30:47.928189",
     "exception": false,
     "start_time": "2023-03-16T20:30:47.902095",
     "status": "completed"
    },
    "tags": []
   },
   "outputs": [],
   "source": [
    "import numpy as np # linear algebra\n",
    "import pandas as pd # data processing, CSV file I/O (e.g. pd.read_csv)\n",
    "import matplotlib.pyplot as plt\n"
   ]
  },
  {
   "cell_type": "markdown",
   "id": "f93ab9f8",
   "metadata": {
    "papermill": {
     "duration": 0.004962,
     "end_time": "2023-03-16T20:30:47.938740",
     "exception": false,
     "start_time": "2023-03-16T20:30:47.933778",
     "status": "completed"
    },
    "tags": []
   },
   "source": [
    "**Read Data CSV**"
   ]
  },
  {
   "cell_type": "code",
   "execution_count": 6,
   "id": "90616dfc",
   "metadata": {
    "execution": {
     "iopub.execute_input": "2023-03-16T20:30:47.950872Z",
     "iopub.status.busy": "2023-03-16T20:30:47.950503Z",
     "iopub.status.idle": "2023-03-16T20:30:49.696638Z",
     "shell.execute_reply": "2023-03-16T20:30:49.695349Z"
    },
    "papermill": {
     "duration": 1.755499,
     "end_time": "2023-03-16T20:30:49.699311",
     "exception": false,
     "start_time": "2023-03-16T20:30:47.943812",
     "status": "completed"
    },
    "tags": []
   },
   "outputs": [],
   "source": [
    "data = pd.read_csv('cars.csv')"
   ]
  },
  {
   "cell_type": "markdown",
   "id": "24177852",
   "metadata": {
    "papermill": {
     "duration": 0.004664,
     "end_time": "2023-03-16T20:30:49.709177",
     "exception": false,
     "start_time": "2023-03-16T20:30:49.704513",
     "status": "completed"
    },
    "tags": []
   },
   "source": [
    "**Explore the Data**"
   ]
  },
  {
   "cell_type": "code",
   "execution_count": 7,
   "id": "cf9fedfc",
   "metadata": {
    "execution": {
     "iopub.execute_input": "2023-03-16T20:30:49.720916Z",
     "iopub.status.busy": "2023-03-16T20:30:49.720561Z",
     "iopub.status.idle": "2023-03-16T20:30:49.753976Z",
     "shell.execute_reply": "2023-03-16T20:30:49.752915Z"
    },
    "papermill": {
     "duration": 0.042096,
     "end_time": "2023-03-16T20:30:49.756146",
     "exception": false,
     "start_time": "2023-03-16T20:30:49.714050",
     "status": "completed"
    },
    "tags": []
   },
   "outputs": [
    {
     "data": {
      "text/html": [
       "<div>\n",
       "<style scoped>\n",
       "    .dataframe tbody tr th:only-of-type {\n",
       "        vertical-align: middle;\n",
       "    }\n",
       "\n",
       "    .dataframe tbody tr th {\n",
       "        vertical-align: top;\n",
       "    }\n",
       "\n",
       "    .dataframe thead th {\n",
       "        text-align: right;\n",
       "    }\n",
       "</style>\n",
       "<table border=\"1\" class=\"dataframe\">\n",
       "  <thead>\n",
       "    <tr style=\"text-align: right;\">\n",
       "      <th></th>\n",
       "      <th>Unnamed: 0</th>\n",
       "      <th>body text</th>\n",
       "      <th>condition</th>\n",
       "      <th>drive</th>\n",
       "      <th>fuel</th>\n",
       "      <th>latlong</th>\n",
       "      <th>location</th>\n",
       "      <th>make</th>\n",
       "      <th>odometer</th>\n",
       "      <th>paint color</th>\n",
       "      <th>price</th>\n",
       "      <th>sale type</th>\n",
       "      <th>title status</th>\n",
       "      <th>transmission</th>\n",
       "      <th>type</th>\n",
       "      <th>cylinders</th>\n",
       "      <th>size</th>\n",
       "    </tr>\n",
       "  </thead>\n",
       "  <tbody>\n",
       "    <tr>\n",
       "      <th>0</th>\n",
       "      <td>0</td>\n",
       "      <td>\\n\\nQR Code Link to This Post\\n\\n\\n2007 BMW X3...</td>\n",
       "      <td>good</td>\n",
       "      <td>4wd</td>\n",
       "      <td>gas</td>\n",
       "      <td>49.234834;-123.090563</td>\n",
       "      <td>VANCOUVER</td>\n",
       "      <td>2007 bmw x3</td>\n",
       "      <td>281000.0</td>\n",
       "      <td>white</td>\n",
       "      <td>$5,500</td>\n",
       "      <td>owner</td>\n",
       "      <td>rebuilt</td>\n",
       "      <td>automatic</td>\n",
       "      <td>SUV</td>\n",
       "      <td>NaN</td>\n",
       "      <td>NaN</td>\n",
       "    </tr>\n",
       "    <tr>\n",
       "      <th>1</th>\n",
       "      <td>1</td>\n",
       "      <td>\\n\\nQR Code Link to This Post\\n\\n\\nRuns and dr...</td>\n",
       "      <td>NaN</td>\n",
       "      <td>NaN</td>\n",
       "      <td>gas</td>\n",
       "      <td>49.283710;-123.124466</td>\n",
       "      <td>Vancouver</td>\n",
       "      <td>1984 honda accord</td>\n",
       "      <td>140000.0</td>\n",
       "      <td>NaN</td>\n",
       "      <td>$600</td>\n",
       "      <td>owner</td>\n",
       "      <td>clean</td>\n",
       "      <td>automatic</td>\n",
       "      <td>NaN</td>\n",
       "      <td>NaN</td>\n",
       "      <td>NaN</td>\n",
       "    </tr>\n",
       "    <tr>\n",
       "      <th>2</th>\n",
       "      <td>2</td>\n",
       "      <td>\\n\\nQR Code Link to This Post\\n\\n\\n2008\\nGmc C...</td>\n",
       "      <td>excellent</td>\n",
       "      <td>rwd</td>\n",
       "      <td>diesel</td>\n",
       "      <td>49.210453;-123.108330</td>\n",
       "      <td>Vancouver</td>\n",
       "      <td>2008 gmc c7500</td>\n",
       "      <td>110000.0</td>\n",
       "      <td>white</td>\n",
       "      <td>$67,000</td>\n",
       "      <td>owner</td>\n",
       "      <td>clean</td>\n",
       "      <td>automatic</td>\n",
       "      <td>truck</td>\n",
       "      <td>8 cylinders</td>\n",
       "      <td>NaN</td>\n",
       "    </tr>\n",
       "    <tr>\n",
       "      <th>3</th>\n",
       "      <td>3</td>\n",
       "      <td>\\n\\nQR Code Link to This Post\\n\\n\\nHello, I am...</td>\n",
       "      <td>NaN</td>\n",
       "      <td>NaN</td>\n",
       "      <td>gas</td>\n",
       "      <td>49.232300;-123.087400</td>\n",
       "      <td>Vancouver</td>\n",
       "      <td>2003 acura rsx</td>\n",
       "      <td>243000.0</td>\n",
       "      <td>NaN</td>\n",
       "      <td>$4,000</td>\n",
       "      <td>owner</td>\n",
       "      <td>clean</td>\n",
       "      <td>automatic</td>\n",
       "      <td>NaN</td>\n",
       "      <td>NaN</td>\n",
       "      <td>NaN</td>\n",
       "    </tr>\n",
       "    <tr>\n",
       "      <th>4</th>\n",
       "      <td>4</td>\n",
       "      <td>\\n\\nQR Code Link to This Post\\n\\n\\nHello, I ha...</td>\n",
       "      <td>salvage</td>\n",
       "      <td>NaN</td>\n",
       "      <td>gas</td>\n",
       "      <td>49.220000;-123.071000</td>\n",
       "      <td>Vancouver</td>\n",
       "      <td>2005 acura rsx</td>\n",
       "      <td>225000.0</td>\n",
       "      <td>black</td>\n",
       "      <td>$1,500</td>\n",
       "      <td>owner</td>\n",
       "      <td>salvage</td>\n",
       "      <td>automatic</td>\n",
       "      <td>NaN</td>\n",
       "      <td>NaN</td>\n",
       "      <td>NaN</td>\n",
       "    </tr>\n",
       "  </tbody>\n",
       "</table>\n",
       "</div>"
      ],
      "text/plain": [
       "   Unnamed: 0                                          body text   condition  \\\n",
       "0           0  \\n\\nQR Code Link to This Post\\n\\n\\n2007 BMW X3...        good   \n",
       "1           1  \\n\\nQR Code Link to This Post\\n\\n\\nRuns and dr...         NaN   \n",
       "2           2  \\n\\nQR Code Link to This Post\\n\\n\\n2008\\nGmc C...   excellent   \n",
       "3           3  \\n\\nQR Code Link to This Post\\n\\n\\nHello, I am...         NaN   \n",
       "4           4  \\n\\nQR Code Link to This Post\\n\\n\\nHello, I ha...     salvage   \n",
       "\n",
       "  drive     fuel                latlong   location               make  \\\n",
       "0   4wd      gas  49.234834;-123.090563  VANCOUVER        2007 bmw x3   \n",
       "1   NaN      gas  49.283710;-123.124466  Vancouver  1984 honda accord   \n",
       "2   rwd   diesel  49.210453;-123.108330  Vancouver     2008 gmc c7500   \n",
       "3   NaN      gas  49.232300;-123.087400  Vancouver     2003 acura rsx   \n",
       "4   NaN      gas  49.220000;-123.071000  Vancouver     2005 acura rsx   \n",
       "\n",
       "   odometer paint color    price sale type title status transmission    type  \\\n",
       "0  281000.0       white   $5,500     owner      rebuilt    automatic     SUV   \n",
       "1  140000.0         NaN     $600     owner        clean    automatic     NaN   \n",
       "2  110000.0       white  $67,000     owner        clean    automatic   truck   \n",
       "3  243000.0         NaN   $4,000     owner        clean    automatic     NaN   \n",
       "4  225000.0       black   $1,500     owner      salvage    automatic     NaN   \n",
       "\n",
       "      cylinders size  \n",
       "0           NaN  NaN  \n",
       "1           NaN  NaN  \n",
       "2   8 cylinders  NaN  \n",
       "3           NaN  NaN  \n",
       "4           NaN  NaN  "
      ]
     },
     "execution_count": 7,
     "metadata": {},
     "output_type": "execute_result"
    }
   ],
   "source": [
    "data.head()"
   ]
  },
  {
   "cell_type": "code",
   "execution_count": 8,
   "id": "312a46e7",
   "metadata": {
    "execution": {
     "iopub.execute_input": "2023-03-16T20:30:49.771235Z",
     "iopub.status.busy": "2023-03-16T20:30:49.770809Z",
     "iopub.status.idle": "2023-03-16T20:30:49.797321Z",
     "shell.execute_reply": "2023-03-16T20:30:49.795842Z"
    },
    "papermill": {
     "duration": 0.039172,
     "end_time": "2023-03-16T20:30:49.800739",
     "exception": false,
     "start_time": "2023-03-16T20:30:49.761567",
     "status": "completed"
    },
    "tags": []
   },
   "outputs": [
    {
     "data": {
      "text/html": [
       "<div>\n",
       "<style scoped>\n",
       "    .dataframe tbody tr th:only-of-type {\n",
       "        vertical-align: middle;\n",
       "    }\n",
       "\n",
       "    .dataframe tbody tr th {\n",
       "        vertical-align: top;\n",
       "    }\n",
       "\n",
       "    .dataframe thead th {\n",
       "        text-align: right;\n",
       "    }\n",
       "</style>\n",
       "<table border=\"1\" class=\"dataframe\">\n",
       "  <thead>\n",
       "    <tr style=\"text-align: right;\">\n",
       "      <th></th>\n",
       "      <th>Unnamed: 0</th>\n",
       "      <th>body text</th>\n",
       "      <th>condition</th>\n",
       "      <th>drive</th>\n",
       "      <th>fuel</th>\n",
       "      <th>latlong</th>\n",
       "      <th>location</th>\n",
       "      <th>make</th>\n",
       "      <th>odometer</th>\n",
       "      <th>paint color</th>\n",
       "      <th>price</th>\n",
       "      <th>sale type</th>\n",
       "      <th>title status</th>\n",
       "      <th>transmission</th>\n",
       "      <th>type</th>\n",
       "      <th>cylinders</th>\n",
       "      <th>size</th>\n",
       "    </tr>\n",
       "  </thead>\n",
       "  <tbody>\n",
       "    <tr>\n",
       "      <th>37336</th>\n",
       "      <td>37336</td>\n",
       "      <td>\\n\\nQR Code Link to This Post\\n\\n\\n2020 *** Ma...</td>\n",
       "      <td>excellent</td>\n",
       "      <td>fwd</td>\n",
       "      <td>gas</td>\n",
       "      <td>0.000000;0.000000</td>\n",
       "      <td>Port Coquitlam</td>\n",
       "      <td>2020 Mazda Mazda6</td>\n",
       "      <td>28356.0</td>\n",
       "      <td>black</td>\n",
       "      <td>$28,995</td>\n",
       "      <td>dealer</td>\n",
       "      <td>clean</td>\n",
       "      <td>automatic</td>\n",
       "      <td>NaN</td>\n",
       "      <td>4 cylinders</td>\n",
       "      <td>NaN</td>\n",
       "    </tr>\n",
       "    <tr>\n",
       "      <th>37337</th>\n",
       "      <td>37337</td>\n",
       "      <td>\\n\\nQR Code Link to This Post\\n\\n\\n2020 *** To...</td>\n",
       "      <td>excellent</td>\n",
       "      <td>fwd</td>\n",
       "      <td>gas</td>\n",
       "      <td>0.000000;0.000000</td>\n",
       "      <td>Port Coquitlam</td>\n",
       "      <td>2020 Toyota Camry</td>\n",
       "      <td>23820.0</td>\n",
       "      <td>black</td>\n",
       "      <td>$27,995</td>\n",
       "      <td>dealer</td>\n",
       "      <td>clean</td>\n",
       "      <td>automatic</td>\n",
       "      <td>NaN</td>\n",
       "      <td>4 cylinders</td>\n",
       "      <td>NaN</td>\n",
       "    </tr>\n",
       "    <tr>\n",
       "      <th>37338</th>\n",
       "      <td>37338</td>\n",
       "      <td>\\n\\nQR Code Link to This Post\\n\\n\\n2016 *** Fo...</td>\n",
       "      <td>excellent</td>\n",
       "      <td>4wd</td>\n",
       "      <td>gas</td>\n",
       "      <td>0.000000;0.000000</td>\n",
       "      <td>Port Coquitlam</td>\n",
       "      <td>2016 Ford F-150</td>\n",
       "      <td>129449.0</td>\n",
       "      <td>white</td>\n",
       "      <td>$29,800</td>\n",
       "      <td>dealer</td>\n",
       "      <td>clean</td>\n",
       "      <td>automatic</td>\n",
       "      <td>NaN</td>\n",
       "      <td>8 cylinders</td>\n",
       "      <td>NaN</td>\n",
       "    </tr>\n",
       "    <tr>\n",
       "      <th>37339</th>\n",
       "      <td>37339</td>\n",
       "      <td>\\n\\nQR Code Link to This Post\\n\\n\\n2020 *** Fo...</td>\n",
       "      <td>excellent</td>\n",
       "      <td>4wd</td>\n",
       "      <td>gas</td>\n",
       "      <td>0.000000;0.000000</td>\n",
       "      <td>Port Coquitlam</td>\n",
       "      <td>2020 Ford Escape</td>\n",
       "      <td>31512.0</td>\n",
       "      <td>silver</td>\n",
       "      <td>$28,995</td>\n",
       "      <td>dealer</td>\n",
       "      <td>clean</td>\n",
       "      <td>automatic</td>\n",
       "      <td>NaN</td>\n",
       "      <td>3 cylinders</td>\n",
       "      <td>NaN</td>\n",
       "    </tr>\n",
       "    <tr>\n",
       "      <th>37340</th>\n",
       "      <td>37340</td>\n",
       "      <td>\\n\\nQR Code Link to This Post\\n\\n\\n2016 *** Ch...</td>\n",
       "      <td>excellent</td>\n",
       "      <td>4wd</td>\n",
       "      <td>gas</td>\n",
       "      <td>0.000000;0.000000</td>\n",
       "      <td>Port Coquitlam</td>\n",
       "      <td>2016 Chevrolet Equinox</td>\n",
       "      <td>108275.0</td>\n",
       "      <td>white</td>\n",
       "      <td>$18,995</td>\n",
       "      <td>dealer</td>\n",
       "      <td>clean</td>\n",
       "      <td>automatic</td>\n",
       "      <td>SUV</td>\n",
       "      <td>4 cylinders</td>\n",
       "      <td>NaN</td>\n",
       "    </tr>\n",
       "  </tbody>\n",
       "</table>\n",
       "</div>"
      ],
      "text/plain": [
       "       Unnamed: 0                                          body text  \\\n",
       "37336       37336  \\n\\nQR Code Link to This Post\\n\\n\\n2020 *** Ma...   \n",
       "37337       37337  \\n\\nQR Code Link to This Post\\n\\n\\n2020 *** To...   \n",
       "37338       37338  \\n\\nQR Code Link to This Post\\n\\n\\n2016 *** Fo...   \n",
       "37339       37339  \\n\\nQR Code Link to This Post\\n\\n\\n2020 *** Fo...   \n",
       "37340       37340  \\n\\nQR Code Link to This Post\\n\\n\\n2016 *** Ch...   \n",
       "\n",
       "        condition drive  fuel            latlong        location  \\\n",
       "37336   excellent   fwd   gas  0.000000;0.000000  Port Coquitlam   \n",
       "37337   excellent   fwd   gas  0.000000;0.000000  Port Coquitlam   \n",
       "37338   excellent   4wd   gas  0.000000;0.000000  Port Coquitlam   \n",
       "37339   excellent   4wd   gas  0.000000;0.000000  Port Coquitlam   \n",
       "37340   excellent   4wd   gas  0.000000;0.000000  Port Coquitlam   \n",
       "\n",
       "                         make  odometer paint color    price sale type  \\\n",
       "37336       2020 Mazda Mazda6   28356.0       black  $28,995    dealer   \n",
       "37337       2020 Toyota Camry   23820.0       black  $27,995    dealer   \n",
       "37338         2016 Ford F-150  129449.0       white  $29,800    dealer   \n",
       "37339        2020 Ford Escape   31512.0      silver  $28,995    dealer   \n",
       "37340  2016 Chevrolet Equinox  108275.0       white  $18,995    dealer   \n",
       "\n",
       "      title status transmission  type     cylinders size  \n",
       "37336        clean    automatic   NaN   4 cylinders  NaN  \n",
       "37337        clean    automatic   NaN   4 cylinders  NaN  \n",
       "37338        clean    automatic   NaN   8 cylinders  NaN  \n",
       "37339        clean    automatic   NaN   3 cylinders  NaN  \n",
       "37340        clean    automatic   SUV   4 cylinders  NaN  "
      ]
     },
     "execution_count": 8,
     "metadata": {},
     "output_type": "execute_result"
    }
   ],
   "source": [
    "data.tail()"
   ]
  },
  {
   "cell_type": "code",
   "execution_count": 9,
   "id": "49aa60ed",
   "metadata": {
    "execution": {
     "iopub.execute_input": "2023-03-16T20:30:49.818382Z",
     "iopub.status.busy": "2023-03-16T20:30:49.817910Z",
     "iopub.status.idle": "2023-03-16T20:30:49.826897Z",
     "shell.execute_reply": "2023-03-16T20:30:49.825429Z"
    },
    "papermill": {
     "duration": 0.022112,
     "end_time": "2023-03-16T20:30:49.831275",
     "exception": false,
     "start_time": "2023-03-16T20:30:49.809163",
     "status": "completed"
    },
    "tags": []
   },
   "outputs": [
    {
     "data": {
      "text/plain": [
       "Unnamed: 0        int64\n",
       "body text        object\n",
       "condition        object\n",
       "drive            object\n",
       "fuel             object\n",
       "latlong          object\n",
       "location         object\n",
       "make             object\n",
       "odometer        float64\n",
       "paint color      object\n",
       "price            object\n",
       "sale type        object\n",
       "title status     object\n",
       "transmission     object\n",
       "type             object\n",
       "cylinders        object\n",
       "size             object\n",
       "dtype: object"
      ]
     },
     "execution_count": 9,
     "metadata": {},
     "output_type": "execute_result"
    }
   ],
   "source": [
    "data.dtypes"
   ]
  },
  {
   "cell_type": "code",
   "execution_count": 10,
   "id": "a38dbf89",
   "metadata": {
    "execution": {
     "iopub.execute_input": "2023-03-16T20:30:49.847856Z",
     "iopub.status.busy": "2023-03-16T20:30:49.847138Z",
     "iopub.status.idle": "2023-03-16T20:30:49.856051Z",
     "shell.execute_reply": "2023-03-16T20:30:49.854428Z"
    },
    "papermill": {
     "duration": 0.019709,
     "end_time": "2023-03-16T20:30:49.858224",
     "exception": false,
     "start_time": "2023-03-16T20:30:49.838515",
     "status": "completed"
    },
    "tags": []
   },
   "outputs": [
    {
     "data": {
      "text/plain": [
       "(37341, 17)"
      ]
     },
     "execution_count": 10,
     "metadata": {},
     "output_type": "execute_result"
    }
   ],
   "source": [
    "data.shape"
   ]
  },
  {
   "cell_type": "code",
   "execution_count": 11,
   "id": "450e44d0",
   "metadata": {
    "execution": {
     "iopub.execute_input": "2023-03-16T20:30:49.871881Z",
     "iopub.status.busy": "2023-03-16T20:30:49.871481Z",
     "iopub.status.idle": "2023-03-16T20:30:49.908004Z",
     "shell.execute_reply": "2023-03-16T20:30:49.906515Z"
    },
    "papermill": {
     "duration": 0.046147,
     "end_time": "2023-03-16T20:30:49.910407",
     "exception": false,
     "start_time": "2023-03-16T20:30:49.864260",
     "status": "completed"
    },
    "tags": []
   },
   "outputs": [
    {
     "data": {
      "text/html": [
       "<div>\n",
       "<style scoped>\n",
       "    .dataframe tbody tr th:only-of-type {\n",
       "        vertical-align: middle;\n",
       "    }\n",
       "\n",
       "    .dataframe tbody tr th {\n",
       "        vertical-align: top;\n",
       "    }\n",
       "\n",
       "    .dataframe thead th {\n",
       "        text-align: right;\n",
       "    }\n",
       "</style>\n",
       "<table border=\"1\" class=\"dataframe\">\n",
       "  <thead>\n",
       "    <tr style=\"text-align: right;\">\n",
       "      <th></th>\n",
       "      <th>Unnamed: 0</th>\n",
       "      <th>odometer</th>\n",
       "    </tr>\n",
       "  </thead>\n",
       "  <tbody>\n",
       "    <tr>\n",
       "      <th>count</th>\n",
       "      <td>37341.000000</td>\n",
       "      <td>3.723600e+04</td>\n",
       "    </tr>\n",
       "    <tr>\n",
       "      <th>mean</th>\n",
       "      <td>18670.000000</td>\n",
       "      <td>1.049046e+05</td>\n",
       "    </tr>\n",
       "    <tr>\n",
       "      <th>std</th>\n",
       "      <td>10779.562538</td>\n",
       "      <td>1.448311e+05</td>\n",
       "    </tr>\n",
       "    <tr>\n",
       "      <th>min</th>\n",
       "      <td>0.000000</td>\n",
       "      <td>0.000000e+00</td>\n",
       "    </tr>\n",
       "    <tr>\n",
       "      <th>25%</th>\n",
       "      <td>9335.000000</td>\n",
       "      <td>3.340475e+04</td>\n",
       "    </tr>\n",
       "    <tr>\n",
       "      <th>50%</th>\n",
       "      <td>18670.000000</td>\n",
       "      <td>8.050000e+04</td>\n",
       "    </tr>\n",
       "    <tr>\n",
       "      <th>75%</th>\n",
       "      <td>28005.000000</td>\n",
       "      <td>1.529260e+05</td>\n",
       "    </tr>\n",
       "    <tr>\n",
       "      <th>max</th>\n",
       "      <td>37340.000000</td>\n",
       "      <td>1.000000e+07</td>\n",
       "    </tr>\n",
       "  </tbody>\n",
       "</table>\n",
       "</div>"
      ],
      "text/plain": [
       "         Unnamed: 0      odometer\n",
       "count  37341.000000  3.723600e+04\n",
       "mean   18670.000000  1.049046e+05\n",
       "std    10779.562538  1.448311e+05\n",
       "min        0.000000  0.000000e+00\n",
       "25%     9335.000000  3.340475e+04\n",
       "50%    18670.000000  8.050000e+04\n",
       "75%    28005.000000  1.529260e+05\n",
       "max    37340.000000  1.000000e+07"
      ]
     },
     "execution_count": 11,
     "metadata": {},
     "output_type": "execute_result"
    }
   ],
   "source": [
    "data.describe()"
   ]
  },
  {
   "cell_type": "markdown",
   "id": "0e7e041f",
   "metadata": {
    "papermill": {
     "duration": 0.005943,
     "end_time": "2023-03-16T20:30:49.922824",
     "exception": false,
     "start_time": "2023-03-16T20:30:49.916881",
     "status": "completed"
    },
    "tags": []
   },
   "source": [
    "**Check Missing Values**"
   ]
  },
  {
   "cell_type": "code",
   "execution_count": 12,
   "id": "abe8d387",
   "metadata": {
    "execution": {
     "iopub.execute_input": "2023-03-16T20:30:49.937388Z",
     "iopub.status.busy": "2023-03-16T20:30:49.936931Z",
     "iopub.status.idle": "2023-03-16T20:30:49.999565Z",
     "shell.execute_reply": "2023-03-16T20:30:49.997581Z"
    },
    "papermill": {
     "duration": 0.072588,
     "end_time": "2023-03-16T20:30:50.001794",
     "exception": false,
     "start_time": "2023-03-16T20:30:49.929206",
     "status": "completed"
    },
    "tags": []
   },
   "outputs": [
    {
     "name": "stdout",
     "output_type": "stream",
     "text": [
      "Unnamed: 0          0\n",
      "body text           0\n",
      "transmission        0\n",
      "title status        0\n",
      "fuel                0\n",
      "latlong             0\n",
      "location            0\n",
      "make                0\n",
      "sale type           0\n",
      "price               0\n",
      "odometer          105\n",
      "condition        7966\n",
      "drive            9137\n",
      "cylinders       10932\n",
      "paint color     11122\n",
      "type            11467\n",
      "size            21588\n",
      "dtype: int64\n",
      "Unnamed: 0       0.00\n",
      "body text        0.00\n",
      "transmission     0.00\n",
      "title status     0.00\n",
      "fuel             0.00\n",
      "latlong          0.00\n",
      "location         0.00\n",
      "make             0.00\n",
      "sale type        0.00\n",
      "price            0.00\n",
      "odometer         0.28\n",
      "condition       21.33\n",
      "drive           24.47\n",
      "cylinders       29.28\n",
      "paint color     29.78\n",
      "type            30.71\n",
      "size            57.81\n",
      "dtype: float64\n"
     ]
    }
   ],
   "source": [
    "count_miss = data.isnull().sum().sort_values(ascending = True)\n",
    "print(count_miss)\n",
    "presentage_val = round(data.isnull().sum()/len(data)*100,2).sort_values(ascending = True)\n",
    "print(presentage_val)"
   ]
  },
  {
   "attachments": {},
   "cell_type": "markdown",
   "id": "b6b5c6db",
   "metadata": {
    "papermill": {
     "duration": 0.005873,
     "end_time": "2023-03-16T20:30:50.015119",
     "exception": false,
     "start_time": "2023-03-16T20:30:50.009246",
     "status": "completed"
    },
    "tags": []
   },
   "source": [
    "**Clasify columns by numerical or categorical types**"
   ]
  },
  {
   "cell_type": "code",
   "execution_count": 13,
   "id": "997a5d63",
   "metadata": {
    "execution": {
     "iopub.execute_input": "2023-03-16T20:30:50.029032Z",
     "iopub.status.busy": "2023-03-16T20:30:50.028653Z",
     "iopub.status.idle": "2023-03-16T20:30:50.044265Z",
     "shell.execute_reply": "2023-03-16T20:30:50.042143Z"
    },
    "papermill": {
     "duration": 0.025249,
     "end_time": "2023-03-16T20:30:50.046599",
     "exception": false,
     "start_time": "2023-03-16T20:30:50.021350",
     "status": "completed"
    },
    "tags": []
   },
   "outputs": [
    {
     "name": "stdout",
     "output_type": "stream",
     "text": [
      "Index(['Unnamed: 0', 'body text', 'condition', 'drive', 'fuel', 'latlong',\n",
      "       'location', 'make', 'paint color', 'price', 'sale type', 'title status',\n",
      "       'transmission', 'type', 'cylinders', 'size'],\n",
      "      dtype='object')\n",
      "Index(['Unnamed: 0', 'body text', 'condition', 'drive', 'fuel', 'latlong',\n",
      "       'location', 'make', 'paint color', 'price', 'sale type', 'title status',\n",
      "       'transmission', 'type', 'cylinders', 'size'],\n",
      "      dtype='object')\n"
     ]
    }
   ],
   "source": [
    "numeric = ['odometer']\n",
    "categorical = data.drop(numeric, axis=1)\n",
    "numerical = data[numeric]\n",
    "print(categorical.columns)\n",
    "print(categorical.columns)\n"
   ]
  },
  {
   "cell_type": "markdown",
   "id": "55d4ace5",
   "metadata": {
    "papermill": {
     "duration": 0.006019,
     "end_time": "2023-03-16T20:30:50.058901",
     "exception": false,
     "start_time": "2023-03-16T20:30:50.052882",
     "status": "completed"
    },
    "tags": []
   },
   "source": [
    "**Fill missing values**"
   ]
  },
  {
   "cell_type": "code",
   "execution_count": 14,
   "id": "4325ea21",
   "metadata": {
    "execution": {
     "iopub.execute_input": "2023-03-16T20:30:50.073589Z",
     "iopub.status.busy": "2023-03-16T20:30:50.072487Z",
     "iopub.status.idle": "2023-03-16T20:30:50.225877Z",
     "shell.execute_reply": "2023-03-16T20:30:50.224844Z"
    },
    "papermill": {
     "duration": 0.163332,
     "end_time": "2023-03-16T20:30:50.228369",
     "exception": false,
     "start_time": "2023-03-16T20:30:50.065037",
     "status": "completed"
    },
    "tags": []
   },
   "outputs": [],
   "source": [
    "# Fill Categorical Vall\n",
    "# length = len(categorical.columns)\n",
    "for i in categorical.columns:\n",
    "    data[i] = data[i].fillna(data[i].mode().values[0])\n",
    "    \n",
    "# Fill Numerical Vall\n",
    "for i in numerical.columns:\n",
    "    data[i] = data[i].fillna(data[i].median())"
   ]
  },
  {
   "cell_type": "markdown",
   "id": "aeca0113",
   "metadata": {
    "papermill": {
     "duration": 0.005696,
     "end_time": "2023-03-16T20:30:50.240357",
     "exception": false,
     "start_time": "2023-03-16T20:30:50.234661",
     "status": "completed"
    },
    "tags": []
   },
   "source": [
    "**Checking Massing Values**"
   ]
  },
  {
   "cell_type": "code",
   "execution_count": 15,
   "id": "46ecabe5",
   "metadata": {
    "execution": {
     "iopub.execute_input": "2023-03-16T20:30:50.254131Z",
     "iopub.status.busy": "2023-03-16T20:30:50.253734Z",
     "iopub.status.idle": "2023-03-16T20:30:50.286153Z",
     "shell.execute_reply": "2023-03-16T20:30:50.285151Z"
    },
    "papermill": {
     "duration": 0.042232,
     "end_time": "2023-03-16T20:30:50.288745",
     "exception": false,
     "start_time": "2023-03-16T20:30:50.246513",
     "status": "completed"
    },
    "tags": []
   },
   "outputs": [
    {
     "name": "stdout",
     "output_type": "stream",
     "text": [
      "Unnamed: 0      0\n",
      "type            0\n",
      "transmission    0\n",
      "title status    0\n",
      "sale type       0\n",
      "price           0\n",
      "paint color     0\n",
      "cylinders       0\n",
      "odometer        0\n",
      "location        0\n",
      "latlong         0\n",
      "fuel            0\n",
      "drive           0\n",
      "condition       0\n",
      "body text       0\n",
      "make            0\n",
      "size            0\n",
      "dtype: int64\n"
     ]
    }
   ],
   "source": [
    "count_miss = data.isnull().sum().sort_values(ascending = True)\n",
    "print(count_miss)\n"
   ]
  },
  {
   "cell_type": "markdown",
   "id": "91f8edde",
   "metadata": {
    "papermill": {
     "duration": 0.00645,
     "end_time": "2023-03-16T20:30:50.302808",
     "exception": false,
     "start_time": "2023-03-16T20:30:50.296358",
     "status": "completed"
    },
    "tags": []
   },
   "source": [
    "# Visualization"
   ]
  },
  {
   "cell_type": "markdown",
   "id": "7eaa23ae",
   "metadata": {
    "papermill": {
     "duration": 0.006012,
     "end_time": "2023-03-16T20:30:50.315197",
     "exception": false,
     "start_time": "2023-03-16T20:30:50.309185",
     "status": "completed"
    },
    "tags": []
   },
   "source": [
    "**10 kota dengan harga kendara tertinggi**"
   ]
  },
  {
   "cell_type": "code",
   "execution_count": 16,
   "id": "dcfd49ad",
   "metadata": {
    "execution": {
     "iopub.execute_input": "2023-03-16T20:30:50.330231Z",
     "iopub.status.busy": "2023-03-16T20:30:50.329858Z",
     "iopub.status.idle": "2023-03-16T20:30:50.381436Z",
     "shell.execute_reply": "2023-03-16T20:30:50.379823Z"
    },
    "papermill": {
     "duration": 0.062081,
     "end_time": "2023-03-16T20:30:50.383672",
     "exception": false,
     "start_time": "2023-03-16T20:30:50.321591",
     "status": "completed"
    },
    "tags": []
   },
   "outputs": [
    {
     "data": {
      "text/html": [
       "<div>\n",
       "<style scoped>\n",
       "    .dataframe tbody tr th:only-of-type {\n",
       "        vertical-align: middle;\n",
       "    }\n",
       "\n",
       "    .dataframe tbody tr th {\n",
       "        vertical-align: top;\n",
       "    }\n",
       "\n",
       "    .dataframe thead th {\n",
       "        text-align: right;\n",
       "    }\n",
       "</style>\n",
       "<table border=\"1\" class=\"dataframe\">\n",
       "  <thead>\n",
       "    <tr style=\"text-align: right;\">\n",
       "      <th></th>\n",
       "      <th>location</th>\n",
       "      <th>price</th>\n",
       "      <th>type</th>\n",
       "    </tr>\n",
       "  </thead>\n",
       "  <tbody>\n",
       "    <tr>\n",
       "      <th>818</th>\n",
       "      <td>Surrey</td>\n",
       "      <td>$999</td>\n",
       "      <td>sedan</td>\n",
       "    </tr>\n",
       "    <tr>\n",
       "      <th>904</th>\n",
       "      <td>Delta Central</td>\n",
       "      <td>$999</td>\n",
       "      <td>sedan</td>\n",
       "    </tr>\n",
       "    <tr>\n",
       "      <th>1670</th>\n",
       "      <td>Burnaby</td>\n",
       "      <td>$999</td>\n",
       "      <td>sedan</td>\n",
       "    </tr>\n",
       "    <tr>\n",
       "      <th>34332</th>\n",
       "      <td>Victoria</td>\n",
       "      <td>$999</td>\n",
       "      <td>sedan</td>\n",
       "    </tr>\n",
       "    <tr>\n",
       "      <th>867</th>\n",
       "      <td>Vancouver</td>\n",
       "      <td>$999</td>\n",
       "      <td>sedan</td>\n",
       "    </tr>\n",
       "    <tr>\n",
       "      <th>15216</th>\n",
       "      <td>Pitt Meadows</td>\n",
       "      <td>$999</td>\n",
       "      <td>sedan</td>\n",
       "    </tr>\n",
       "    <tr>\n",
       "      <th>2818</th>\n",
       "      <td>Vancouver</td>\n",
       "      <td>$995</td>\n",
       "      <td>sedan</td>\n",
       "    </tr>\n",
       "    <tr>\n",
       "      <th>2817</th>\n",
       "      <td>Vancouver</td>\n",
       "      <td>$995</td>\n",
       "      <td>sedan</td>\n",
       "    </tr>\n",
       "    <tr>\n",
       "      <th>11483</th>\n",
       "      <td>North Vancouver</td>\n",
       "      <td>$992</td>\n",
       "      <td>sedan</td>\n",
       "    </tr>\n",
       "    <tr>\n",
       "      <th>3799</th>\n",
       "      <td>Vancouver</td>\n",
       "      <td>$99,999</td>\n",
       "      <td>SUV</td>\n",
       "    </tr>\n",
       "  </tbody>\n",
       "</table>\n",
       "</div>"
      ],
      "text/plain": [
       "              location    price    type\n",
       "818             Surrey     $999   sedan\n",
       "904      Delta Central     $999   sedan\n",
       "1670           Burnaby     $999   sedan\n",
       "34332         Victoria     $999   sedan\n",
       "867          Vancouver     $999   sedan\n",
       "15216     Pitt Meadows     $999   sedan\n",
       "2818         Vancouver     $995   sedan\n",
       "2817         Vancouver     $995   sedan\n",
       "11483  North Vancouver     $992   sedan\n",
       "3799         Vancouver  $99,999     SUV"
      ]
     },
     "execution_count": 16,
     "metadata": {},
     "output_type": "execute_result"
    }
   ],
   "source": [
    "result = data.sort_values(by=['price'],ascending=False).head(10)\n",
    "result[['location', 'price', 'type']]"
   ]
  },
  {
   "attachments": {},
   "cell_type": "markdown",
   "id": "9dd60db6",
   "metadata": {
    "papermill": {
     "duration": 0.00614,
     "end_time": "2023-03-16T20:30:50.396761",
     "exception": false,
     "start_time": "2023-03-16T20:30:50.390621",
     "status": "completed"
    },
    "tags": []
   },
   "source": [
    "**Harga tertinggi berdasarkan kondisi kendaraan**"
   ]
  },
  {
   "cell_type": "code",
   "execution_count": 17,
   "id": "bf2fb384",
   "metadata": {
    "execution": {
     "iopub.execute_input": "2023-03-16T20:30:50.412476Z",
     "iopub.status.busy": "2023-03-16T20:30:50.411116Z",
     "iopub.status.idle": "2023-03-16T20:30:50.570209Z",
     "shell.execute_reply": "2023-03-16T20:30:50.569371Z"
    },
    "papermill": {
     "duration": 0.169269,
     "end_time": "2023-03-16T20:30:50.572498",
     "exception": false,
     "start_time": "2023-03-16T20:30:50.403229",
     "status": "completed"
    },
    "tags": []
   },
   "outputs": [
    {
     "data": {
      "image/png": "[encoded data removed]",
      "text/plain": [
       "<Figure size 1000x500 with 1 Axes>"
      ]
     },
     "metadata": {},
     "output_type": "display_data"
    }
   ],
   "source": [
    "cond = data[['condition', 'price']]\n",
    "conds = cond.groupby('condition').max().sort_values(by='price', ascending=False).head()\n",
    "conds\n",
    "\n",
    "plt.figure(figsize=(10, 5))\n",
    "\n",
    "\n",
    "x= range(5)\n",
    "plt.bar(x,conds['price'])\n",
    "plt.xticks(x,conds.index)\n",
    "plt.xlabel('vehicle condition')\n",
    "plt.ylabel('price')\n",
    "plt.show()"
   ]
  },
  {
   "cell_type": "markdown",
   "id": "7caeec87",
   "metadata": {
    "papermill": {
     "duration": 0.00903,
     "end_time": "2023-03-16T20:30:50.590808",
     "exception": false,
     "start_time": "2023-03-16T20:30:50.581778",
     "status": "completed"
    },
    "tags": []
   },
   "source": [
    "## Pie Chart\n",
    "\n",
    "### diagram menunjukan kuantitas jenis bahan bakar paling banyak"
   ]
  },
  {
   "cell_type": "code",
   "execution_count": 53,
   "id": "1d7f8ecc",
   "metadata": {
    "execution": {
     "iopub.execute_input": "2023-03-16T20:30:50.612283Z",
     "iopub.status.busy": "2023-03-16T20:30:50.611199Z",
     "iopub.status.idle": "2023-03-16T20:30:50.622158Z",
     "shell.execute_reply": "2023-03-16T20:30:50.621392Z"
    },
    "papermill": {
     "duration": 0.023933,
     "end_time": "2023-03-16T20:30:50.624662",
     "exception": false,
     "start_time": "2023-03-16T20:30:50.600729",
     "status": "completed"
    },
    "tags": []
   },
   "outputs": [
    {
     "data": {
      "text/plain": [
       " gas         33485\n",
       " diesel       2155\n",
       " hybrid        826\n",
       " electric      482\n",
       " other         386\n",
       "                 7\n",
       "Name: fuel, dtype: int64"
      ]
     },
     "execution_count": 53,
     "metadata": {},
     "output_type": "execute_result"
    }
   ],
   "source": [
    "data['fuel'].value_counts()"
   ]
  },
  {
   "cell_type": "code",
   "execution_count": 54,
   "id": "5a17b509",
   "metadata": {
    "execution": {
     "iopub.execute_input": "2023-03-16T20:30:50.641332Z",
     "iopub.status.busy": "2023-03-16T20:30:50.640687Z",
     "iopub.status.idle": "2023-03-16T20:30:50.866840Z",
     "shell.execute_reply": "2023-03-16T20:30:50.864667Z"
    },
    "papermill": {
     "duration": 0.236251,
     "end_time": "2023-03-16T20:30:50.868431",
     "exception": true,
     "start_time": "2023-03-16T20:30:50.632180",
     "status": "failed"
    },
    "tags": []
   },
   "outputs": [
    {
     "data": {
      "image/png": "[encoded data removed]",
      "text/plain": [
       "<Figure size 4000x1500 with 1 Axes>"
      ]
     },
     "metadata": {},
     "output_type": "display_data"
    }
   ],
   "source": [
    "count = data['fuel'].value_counts()\n",
    "laba = list([' gas', ' diesel', ' hybrid', ' electric', ' other', ''])\n",
    "f=plt.figure(figsize=(40,15))\n",
    "f.add_subplot(2,6,6)\n",
    "plt.axis('equal')\n",
    "plt.pie(x=count, labels=laba)\n",
    "plt.show()"
   ]
  }
 ],
 "metadata": {
  "kernelspec": {
   "display_name": "Python 3",
   "language": "python",
   "name": "python3"
  },
  "language_info": {
   "codemirror_mode": {
    "name": "ipython",
    "version": 3
   },
   "file_extension": ".py",
   "mimetype": "text/x-python",
   "name": "python",
   "nbconvert_exporter": "python",
   "pygments_lexer": "ipython3",
   "version": "3.9.16"
  },
  "papermill": {
   "default_parameters": {},
   "duration": 12.811711,
   "end_time": "2023-03-16T20:30:51.600524",
   "environment_variables": {},
   "exception": true,
   "input_path": "__notebook__.ipynb",
   "output_path": "__notebook__.ipynb",
   "parameters": {},
   "start_time": "2023-03-16T20:30:38.788813",
   "version": "2.4.0"
  }
 },
 "nbformat": 4,
 "nbformat_minor": 5
}
