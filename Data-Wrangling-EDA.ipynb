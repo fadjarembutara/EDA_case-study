{
 "cells": [
  {
   "cell_type": "markdown",
   "id": "8b2ee4e3",
   "metadata": {
    "papermill": {
     "duration": 0.011112,
     "end_time": "2023-03-20T20:55:11.101410",
     "exception": false,
     "start_time": "2023-03-20T20:55:11.090298",
     "status": "completed"
    },
    "tags": []
   },
   "source": [
    "# Import Library"
   ]
  },
  {
   "cell_type": "code",
   "execution_count": 2,
   "id": "972b7962",
   "metadata": {
    "execution": {
     "iopub.execute_input": "2023-03-20T20:55:11.124827Z",
     "iopub.status.busy": "2023-03-20T20:55:11.124361Z",
     "iopub.status.idle": "2023-03-20T20:55:12.334188Z",
     "shell.execute_reply": "2023-03-20T20:55:12.332878Z"
    },
    "papermill": {
     "duration": 1.224537,
     "end_time": "2023-03-20T20:55:12.336989",
     "exception": false,
     "start_time": "2023-03-20T20:55:11.112452",
     "status": "completed"
    },
    "tags": []
   },
   "outputs": [],
   "source": [
    "import numpy as np # linear algebra\n",
    "import pandas as pd # data processing, CSV file I/O (e.g. pd.read_csv)\n",
    "import matplotlib.pyplot as plt\n",
    "import seaborn as sns"
   ]
  },
  {
   "cell_type": "markdown",
   "id": "524a9a30",
   "metadata": {
    "papermill": {
     "duration": 0.011321,
     "end_time": "2023-03-20T20:55:12.358753",
     "exception": false,
     "start_time": "2023-03-20T20:55:12.347432",
     "status": "completed"
    },
    "tags": []
   },
   "source": [
    "# Load Dataset"
   ]
  },
  {
   "cell_type": "code",
   "execution_count": 3,
   "id": "aa43cda3",
   "metadata": {
    "execution": {
     "iopub.execute_input": "2023-03-20T20:55:12.381656Z",
     "iopub.status.busy": "2023-03-20T20:55:12.381104Z",
     "iopub.status.idle": "2023-03-20T20:55:12.449890Z",
     "shell.execute_reply": "2023-03-20T20:55:12.448607Z"
    },
    "papermill": {
     "duration": 0.083653,
     "end_time": "2023-03-20T20:55:12.452712",
     "exception": false,
     "start_time": "2023-03-20T20:55:12.369059",
     "status": "completed"
    },
    "tags": []
   },
   "outputs": [
    {
     "data": {
      "text/html": [
       "<div>\n",
       "<style scoped>\n",
       "    .dataframe tbody tr th:only-of-type {\n",
       "        vertical-align: middle;\n",
       "    }\n",
       "\n",
       "    .dataframe tbody tr th {\n",
       "        vertical-align: top;\n",
       "    }\n",
       "\n",
       "    .dataframe thead th {\n",
       "        text-align: right;\n",
       "    }\n",
       "</style>\n",
       "<table border=\"1\" class=\"dataframe\">\n",
       "  <thead>\n",
       "    <tr style=\"text-align: right;\">\n",
       "      <th></th>\n",
       "      <th>symboling</th>\n",
       "      <th>normalized-losses</th>\n",
       "      <th>make</th>\n",
       "      <th>fuel-type</th>\n",
       "      <th>aspiration</th>\n",
       "      <th>num-of-doors</th>\n",
       "      <th>body-style</th>\n",
       "      <th>drive-wheels</th>\n",
       "      <th>engine-location</th>\n",
       "      <th>wheel-base</th>\n",
       "      <th>...</th>\n",
       "      <th>engine-size</th>\n",
       "      <th>fuel-system</th>\n",
       "      <th>bore</th>\n",
       "      <th>stroke</th>\n",
       "      <th>compression-ratio</th>\n",
       "      <th>horsepower</th>\n",
       "      <th>peak-rpm</th>\n",
       "      <th>city-mpg</th>\n",
       "      <th>highway-mpg</th>\n",
       "      <th>price</th>\n",
       "    </tr>\n",
       "  </thead>\n",
       "  <tbody>\n",
       "    <tr>\n",
       "      <th>0</th>\n",
       "      <td>3</td>\n",
       "      <td>?</td>\n",
       "      <td>alfa-romero</td>\n",
       "      <td>gas</td>\n",
       "      <td>std</td>\n",
       "      <td>two</td>\n",
       "      <td>convertible</td>\n",
       "      <td>rwd</td>\n",
       "      <td>front</td>\n",
       "      <td>88.6</td>\n",
       "      <td>...</td>\n",
       "      <td>130</td>\n",
       "      <td>mpfi</td>\n",
       "      <td>3.47</td>\n",
       "      <td>2.68</td>\n",
       "      <td>9.0</td>\n",
       "      <td>111</td>\n",
       "      <td>5000</td>\n",
       "      <td>21</td>\n",
       "      <td>27</td>\n",
       "      <td>13495</td>\n",
       "    </tr>\n",
       "    <tr>\n",
       "      <th>1</th>\n",
       "      <td>3</td>\n",
       "      <td>?</td>\n",
       "      <td>alfa-romero</td>\n",
       "      <td>gas</td>\n",
       "      <td>std</td>\n",
       "      <td>two</td>\n",
       "      <td>convertible</td>\n",
       "      <td>rwd</td>\n",
       "      <td>front</td>\n",
       "      <td>88.6</td>\n",
       "      <td>...</td>\n",
       "      <td>130</td>\n",
       "      <td>mpfi</td>\n",
       "      <td>3.47</td>\n",
       "      <td>2.68</td>\n",
       "      <td>9.0</td>\n",
       "      <td>111</td>\n",
       "      <td>5000</td>\n",
       "      <td>21</td>\n",
       "      <td>27</td>\n",
       "      <td>16500</td>\n",
       "    </tr>\n",
       "    <tr>\n",
       "      <th>2</th>\n",
       "      <td>1</td>\n",
       "      <td>?</td>\n",
       "      <td>alfa-romero</td>\n",
       "      <td>gas</td>\n",
       "      <td>std</td>\n",
       "      <td>two</td>\n",
       "      <td>hatchback</td>\n",
       "      <td>rwd</td>\n",
       "      <td>front</td>\n",
       "      <td>94.5</td>\n",
       "      <td>...</td>\n",
       "      <td>152</td>\n",
       "      <td>mpfi</td>\n",
       "      <td>2.68</td>\n",
       "      <td>3.47</td>\n",
       "      <td>9.0</td>\n",
       "      <td>154</td>\n",
       "      <td>5000</td>\n",
       "      <td>19</td>\n",
       "      <td>26</td>\n",
       "      <td>16500</td>\n",
       "    </tr>\n",
       "    <tr>\n",
       "      <th>3</th>\n",
       "      <td>2</td>\n",
       "      <td>164</td>\n",
       "      <td>audi</td>\n",
       "      <td>gas</td>\n",
       "      <td>std</td>\n",
       "      <td>four</td>\n",
       "      <td>sedan</td>\n",
       "      <td>fwd</td>\n",
       "      <td>front</td>\n",
       "      <td>99.8</td>\n",
       "      <td>...</td>\n",
       "      <td>109</td>\n",
       "      <td>mpfi</td>\n",
       "      <td>3.19</td>\n",
       "      <td>3.4</td>\n",
       "      <td>10.0</td>\n",
       "      <td>102</td>\n",
       "      <td>5500</td>\n",
       "      <td>24</td>\n",
       "      <td>30</td>\n",
       "      <td>13950</td>\n",
       "    </tr>\n",
       "    <tr>\n",
       "      <th>4</th>\n",
       "      <td>2</td>\n",
       "      <td>164</td>\n",
       "      <td>audi</td>\n",
       "      <td>gas</td>\n",
       "      <td>std</td>\n",
       "      <td>four</td>\n",
       "      <td>sedan</td>\n",
       "      <td>4wd</td>\n",
       "      <td>front</td>\n",
       "      <td>99.4</td>\n",
       "      <td>...</td>\n",
       "      <td>136</td>\n",
       "      <td>mpfi</td>\n",
       "      <td>3.19</td>\n",
       "      <td>3.4</td>\n",
       "      <td>8.0</td>\n",
       "      <td>115</td>\n",
       "      <td>5500</td>\n",
       "      <td>18</td>\n",
       "      <td>22</td>\n",
       "      <td>17450</td>\n",
       "    </tr>\n",
       "    <tr>\n",
       "      <th>...</th>\n",
       "      <td>...</td>\n",
       "      <td>...</td>\n",
       "      <td>...</td>\n",
       "      <td>...</td>\n",
       "      <td>...</td>\n",
       "      <td>...</td>\n",
       "      <td>...</td>\n",
       "      <td>...</td>\n",
       "      <td>...</td>\n",
       "      <td>...</td>\n",
       "      <td>...</td>\n",
       "      <td>...</td>\n",
       "      <td>...</td>\n",
       "      <td>...</td>\n",
       "      <td>...</td>\n",
       "      <td>...</td>\n",
       "      <td>...</td>\n",
       "      <td>...</td>\n",
       "      <td>...</td>\n",
       "      <td>...</td>\n",
       "      <td>...</td>\n",
       "    </tr>\n",
       "    <tr>\n",
       "      <th>200</th>\n",
       "      <td>-1</td>\n",
       "      <td>95</td>\n",
       "      <td>volvo</td>\n",
       "      <td>gas</td>\n",
       "      <td>std</td>\n",
       "      <td>four</td>\n",
       "      <td>sedan</td>\n",
       "      <td>rwd</td>\n",
       "      <td>front</td>\n",
       "      <td>109.1</td>\n",
       "      <td>...</td>\n",
       "      <td>141</td>\n",
       "      <td>mpfi</td>\n",
       "      <td>3.78</td>\n",
       "      <td>3.15</td>\n",
       "      <td>9.5</td>\n",
       "      <td>114</td>\n",
       "      <td>5400</td>\n",
       "      <td>23</td>\n",
       "      <td>28</td>\n",
       "      <td>16845</td>\n",
       "    </tr>\n",
       "    <tr>\n",
       "      <th>201</th>\n",
       "      <td>-1</td>\n",
       "      <td>95</td>\n",
       "      <td>volvo</td>\n",
       "      <td>gas</td>\n",
       "      <td>turbo</td>\n",
       "      <td>four</td>\n",
       "      <td>sedan</td>\n",
       "      <td>rwd</td>\n",
       "      <td>front</td>\n",
       "      <td>109.1</td>\n",
       "      <td>...</td>\n",
       "      <td>141</td>\n",
       "      <td>mpfi</td>\n",
       "      <td>3.78</td>\n",
       "      <td>3.15</td>\n",
       "      <td>8.7</td>\n",
       "      <td>160</td>\n",
       "      <td>5300</td>\n",
       "      <td>19</td>\n",
       "      <td>25</td>\n",
       "      <td>19045</td>\n",
       "    </tr>\n",
       "    <tr>\n",
       "      <th>202</th>\n",
       "      <td>-1</td>\n",
       "      <td>95</td>\n",
       "      <td>volvo</td>\n",
       "      <td>gas</td>\n",
       "      <td>std</td>\n",
       "      <td>four</td>\n",
       "      <td>sedan</td>\n",
       "      <td>rwd</td>\n",
       "      <td>front</td>\n",
       "      <td>109.1</td>\n",
       "      <td>...</td>\n",
       "      <td>173</td>\n",
       "      <td>mpfi</td>\n",
       "      <td>3.58</td>\n",
       "      <td>2.87</td>\n",
       "      <td>8.8</td>\n",
       "      <td>134</td>\n",
       "      <td>5500</td>\n",
       "      <td>18</td>\n",
       "      <td>23</td>\n",
       "      <td>21485</td>\n",
       "    </tr>\n",
       "    <tr>\n",
       "      <th>203</th>\n",
       "      <td>-1</td>\n",
       "      <td>95</td>\n",
       "      <td>volvo</td>\n",
       "      <td>diesel</td>\n",
       "      <td>turbo</td>\n",
       "      <td>four</td>\n",
       "      <td>sedan</td>\n",
       "      <td>rwd</td>\n",
       "      <td>front</td>\n",
       "      <td>109.1</td>\n",
       "      <td>...</td>\n",
       "      <td>145</td>\n",
       "      <td>idi</td>\n",
       "      <td>3.01</td>\n",
       "      <td>3.4</td>\n",
       "      <td>23.0</td>\n",
       "      <td>106</td>\n",
       "      <td>4800</td>\n",
       "      <td>26</td>\n",
       "      <td>27</td>\n",
       "      <td>22470</td>\n",
       "    </tr>\n",
       "    <tr>\n",
       "      <th>204</th>\n",
       "      <td>-1</td>\n",
       "      <td>95</td>\n",
       "      <td>volvo</td>\n",
       "      <td>gas</td>\n",
       "      <td>turbo</td>\n",
       "      <td>four</td>\n",
       "      <td>sedan</td>\n",
       "      <td>rwd</td>\n",
       "      <td>front</td>\n",
       "      <td>109.1</td>\n",
       "      <td>...</td>\n",
       "      <td>141</td>\n",
       "      <td>mpfi</td>\n",
       "      <td>3.78</td>\n",
       "      <td>3.15</td>\n",
       "      <td>9.5</td>\n",
       "      <td>114</td>\n",
       "      <td>5400</td>\n",
       "      <td>19</td>\n",
       "      <td>25</td>\n",
       "      <td>22625</td>\n",
       "    </tr>\n",
       "  </tbody>\n",
       "</table>\n",
       "<p>205 rows × 26 columns</p>\n",
       "</div>"
      ],
      "text/plain": [
       "     symboling normalized-losses         make fuel-type aspiration  \\\n",
       "0            3                 ?  alfa-romero       gas        std   \n",
       "1            3                 ?  alfa-romero       gas        std   \n",
       "2            1                 ?  alfa-romero       gas        std   \n",
       "3            2               164         audi       gas        std   \n",
       "4            2               164         audi       gas        std   \n",
       "..         ...               ...          ...       ...        ...   \n",
       "200         -1                95        volvo       gas        std   \n",
       "201         -1                95        volvo       gas      turbo   \n",
       "202         -1                95        volvo       gas        std   \n",
       "203         -1                95        volvo    diesel      turbo   \n",
       "204         -1                95        volvo       gas      turbo   \n",
       "\n",
       "    num-of-doors   body-style drive-wheels engine-location  wheel-base  ...  \\\n",
       "0            two  convertible          rwd           front        88.6  ...   \n",
       "1            two  convertible          rwd           front        88.6  ...   \n",
       "2            two    hatchback          rwd           front        94.5  ...   \n",
       "3           four        sedan          fwd           front        99.8  ...   \n",
       "4           four        sedan          4wd           front        99.4  ...   \n",
       "..           ...          ...          ...             ...         ...  ...   \n",
       "200         four        sedan          rwd           front       109.1  ...   \n",
       "201         four        sedan          rwd           front       109.1  ...   \n",
       "202         four        sedan          rwd           front       109.1  ...   \n",
       "203         four        sedan          rwd           front       109.1  ...   \n",
       "204         four        sedan          rwd           front       109.1  ...   \n",
       "\n",
       "     engine-size  fuel-system  bore  stroke compression-ratio horsepower  \\\n",
       "0            130         mpfi  3.47    2.68               9.0        111   \n",
       "1            130         mpfi  3.47    2.68               9.0        111   \n",
       "2            152         mpfi  2.68    3.47               9.0        154   \n",
       "3            109         mpfi  3.19     3.4              10.0        102   \n",
       "4            136         mpfi  3.19     3.4               8.0        115   \n",
       "..           ...          ...   ...     ...               ...        ...   \n",
       "200          141         mpfi  3.78    3.15               9.5        114   \n",
       "201          141         mpfi  3.78    3.15               8.7        160   \n",
       "202          173         mpfi  3.58    2.87               8.8        134   \n",
       "203          145          idi  3.01     3.4              23.0        106   \n",
       "204          141         mpfi  3.78    3.15               9.5        114   \n",
       "\n",
       "     peak-rpm city-mpg highway-mpg  price  \n",
       "0        5000       21          27  13495  \n",
       "1        5000       21          27  16500  \n",
       "2        5000       19          26  16500  \n",
       "3        5500       24          30  13950  \n",
       "4        5500       18          22  17450  \n",
       "..        ...      ...         ...    ...  \n",
       "200      5400       23          28  16845  \n",
       "201      5300       19          25  19045  \n",
       "202      5500       18          23  21485  \n",
       "203      4800       26          27  22470  \n",
       "204      5400       19          25  22625  \n",
       "\n",
       "[205 rows x 26 columns]"
      ]
     },
     "execution_count": 3,
     "metadata": {},
     "output_type": "execute_result"
    }
   ],
   "source": [
    "data = pd.read_csv('Automobile_data.csv')\n",
    "data"
   ]
  },
  {
   "cell_type": "markdown",
   "id": "45b18842",
   "metadata": {
    "papermill": {
     "duration": 0.010741,
     "end_time": "2023-03-20T20:55:12.474526",
     "exception": false,
     "start_time": "2023-03-20T20:55:12.463785",
     "status": "completed"
    },
    "tags": []
   },
   "source": [
    "# Review Dataset"
   ]
  },
  {
   "cell_type": "code",
   "execution_count": 4,
   "id": "73752fe3",
   "metadata": {
    "execution": {
     "iopub.execute_input": "2023-03-20T20:55:12.498526Z",
     "iopub.status.busy": "2023-03-20T20:55:12.498119Z",
     "iopub.status.idle": "2023-03-20T20:55:12.504992Z",
     "shell.execute_reply": "2023-03-20T20:55:12.503686Z"
    },
    "papermill": {
     "duration": 0.021819,
     "end_time": "2023-03-20T20:55:12.507272",
     "exception": false,
     "start_time": "2023-03-20T20:55:12.485453",
     "status": "completed"
    },
    "tags": []
   },
   "outputs": [
    {
     "data": {
      "text/plain": [
       "(205, 26)"
      ]
     },
     "execution_count": 4,
     "metadata": {},
     "output_type": "execute_result"
    }
   ],
   "source": [
    "data.shape"
   ]
  },
  {
   "cell_type": "code",
   "execution_count": 5,
   "id": "55360210",
   "metadata": {
    "execution": {
     "iopub.execute_input": "2023-03-20T20:55:12.532014Z",
     "iopub.status.busy": "2023-03-20T20:55:12.531244Z",
     "iopub.status.idle": "2023-03-20T20:55:12.540610Z",
     "shell.execute_reply": "2023-03-20T20:55:12.539307Z"
    },
    "papermill": {
     "duration": 0.024781,
     "end_time": "2023-03-20T20:55:12.543141",
     "exception": false,
     "start_time": "2023-03-20T20:55:12.518360",
     "status": "completed"
    },
    "tags": []
   },
   "outputs": [
    {
     "data": {
      "text/plain": [
       "symboling              int64\n",
       "normalized-losses     object\n",
       "make                  object\n",
       "fuel-type             object\n",
       "aspiration            object\n",
       "num-of-doors          object\n",
       "body-style            object\n",
       "drive-wheels          object\n",
       "engine-location       object\n",
       "wheel-base           float64\n",
       "length               float64\n",
       "width                float64\n",
       "height               float64\n",
       "curb-weight            int64\n",
       "engine-type           object\n",
       "num-of-cylinders      object\n",
       "engine-size            int64\n",
       "fuel-system           object\n",
       "bore                  object\n",
       "stroke                object\n",
       "compression-ratio    float64\n",
       "horsepower            object\n",
       "peak-rpm              object\n",
       "city-mpg               int64\n",
       "highway-mpg            int64\n",
       "price                 object\n",
       "dtype: object"
      ]
     },
     "execution_count": 5,
     "metadata": {},
     "output_type": "execute_result"
    }
   ],
   "source": [
    "data.dtypes"
   ]
  },
  {
   "cell_type": "markdown",
   "id": "908b377c",
   "metadata": {
    "papermill": {
     "duration": 0.010597,
     "end_time": "2023-03-20T20:55:12.564777",
     "exception": false,
     "start_time": "2023-03-20T20:55:12.554180",
     "status": "completed"
    },
    "tags": []
   },
   "source": [
    "### Describe data with numerical columns"
   ]
  },
  {
   "cell_type": "code",
   "execution_count": 6,
   "id": "f6370a01",
   "metadata": {
    "execution": {
     "iopub.execute_input": "2023-03-20T20:55:12.589702Z",
     "iopub.status.busy": "2023-03-20T20:55:12.588242Z",
     "iopub.status.idle": "2023-03-20T20:55:12.640264Z",
     "shell.execute_reply": "2023-03-20T20:55:12.638916Z"
    },
    "papermill": {
     "duration": 0.067008,
     "end_time": "2023-03-20T20:55:12.642803",
     "exception": false,
     "start_time": "2023-03-20T20:55:12.575795",
     "status": "completed"
    },
    "tags": []
   },
   "outputs": [
    {
     "data": {
      "text/html": [
       "<div>\n",
       "<style scoped>\n",
       "    .dataframe tbody tr th:only-of-type {\n",
       "        vertical-align: middle;\n",
       "    }\n",
       "\n",
       "    .dataframe tbody tr th {\n",
       "        vertical-align: top;\n",
       "    }\n",
       "\n",
       "    .dataframe thead th {\n",
       "        text-align: right;\n",
       "    }\n",
       "</style>\n",
       "<table border=\"1\" class=\"dataframe\">\n",
       "  <thead>\n",
       "    <tr style=\"text-align: right;\">\n",
       "      <th></th>\n",
       "      <th>symboling</th>\n",
       "      <th>wheel-base</th>\n",
       "      <th>length</th>\n",
       "      <th>width</th>\n",
       "      <th>height</th>\n",
       "      <th>curb-weight</th>\n",
       "      <th>engine-size</th>\n",
       "      <th>compression-ratio</th>\n",
       "      <th>city-mpg</th>\n",
       "      <th>highway-mpg</th>\n",
       "    </tr>\n",
       "  </thead>\n",
       "  <tbody>\n",
       "    <tr>\n",
       "      <th>count</th>\n",
       "      <td>205.000000</td>\n",
       "      <td>205.000000</td>\n",
       "      <td>205.000000</td>\n",
       "      <td>205.000000</td>\n",
       "      <td>205.000000</td>\n",
       "      <td>205.000000</td>\n",
       "      <td>205.000000</td>\n",
       "      <td>205.000000</td>\n",
       "      <td>205.000000</td>\n",
       "      <td>205.000000</td>\n",
       "    </tr>\n",
       "    <tr>\n",
       "      <th>mean</th>\n",
       "      <td>0.834146</td>\n",
       "      <td>98.756585</td>\n",
       "      <td>174.049268</td>\n",
       "      <td>65.907805</td>\n",
       "      <td>53.724878</td>\n",
       "      <td>2555.565854</td>\n",
       "      <td>126.907317</td>\n",
       "      <td>10.142537</td>\n",
       "      <td>25.219512</td>\n",
       "      <td>30.751220</td>\n",
       "    </tr>\n",
       "    <tr>\n",
       "      <th>std</th>\n",
       "      <td>1.245307</td>\n",
       "      <td>6.021776</td>\n",
       "      <td>12.337289</td>\n",
       "      <td>2.145204</td>\n",
       "      <td>2.443522</td>\n",
       "      <td>520.680204</td>\n",
       "      <td>41.642693</td>\n",
       "      <td>3.972040</td>\n",
       "      <td>6.542142</td>\n",
       "      <td>6.886443</td>\n",
       "    </tr>\n",
       "    <tr>\n",
       "      <th>min</th>\n",
       "      <td>-2.000000</td>\n",
       "      <td>86.600000</td>\n",
       "      <td>141.100000</td>\n",
       "      <td>60.300000</td>\n",
       "      <td>47.800000</td>\n",
       "      <td>1488.000000</td>\n",
       "      <td>61.000000</td>\n",
       "      <td>7.000000</td>\n",
       "      <td>13.000000</td>\n",
       "      <td>16.000000</td>\n",
       "    </tr>\n",
       "    <tr>\n",
       "      <th>25%</th>\n",
       "      <td>0.000000</td>\n",
       "      <td>94.500000</td>\n",
       "      <td>166.300000</td>\n",
       "      <td>64.100000</td>\n",
       "      <td>52.000000</td>\n",
       "      <td>2145.000000</td>\n",
       "      <td>97.000000</td>\n",
       "      <td>8.600000</td>\n",
       "      <td>19.000000</td>\n",
       "      <td>25.000000</td>\n",
       "    </tr>\n",
       "    <tr>\n",
       "      <th>50%</th>\n",
       "      <td>1.000000</td>\n",
       "      <td>97.000000</td>\n",
       "      <td>173.200000</td>\n",
       "      <td>65.500000</td>\n",
       "      <td>54.100000</td>\n",
       "      <td>2414.000000</td>\n",
       "      <td>120.000000</td>\n",
       "      <td>9.000000</td>\n",
       "      <td>24.000000</td>\n",
       "      <td>30.000000</td>\n",
       "    </tr>\n",
       "    <tr>\n",
       "      <th>75%</th>\n",
       "      <td>2.000000</td>\n",
       "      <td>102.400000</td>\n",
       "      <td>183.100000</td>\n",
       "      <td>66.900000</td>\n",
       "      <td>55.500000</td>\n",
       "      <td>2935.000000</td>\n",
       "      <td>141.000000</td>\n",
       "      <td>9.400000</td>\n",
       "      <td>30.000000</td>\n",
       "      <td>34.000000</td>\n",
       "    </tr>\n",
       "    <tr>\n",
       "      <th>max</th>\n",
       "      <td>3.000000</td>\n",
       "      <td>120.900000</td>\n",
       "      <td>208.100000</td>\n",
       "      <td>72.300000</td>\n",
       "      <td>59.800000</td>\n",
       "      <td>4066.000000</td>\n",
       "      <td>326.000000</td>\n",
       "      <td>23.000000</td>\n",
       "      <td>49.000000</td>\n",
       "      <td>54.000000</td>\n",
       "    </tr>\n",
       "  </tbody>\n",
       "</table>\n",
       "</div>"
      ],
      "text/plain": [
       "        symboling  wheel-base      length       width      height  \\\n",
       "count  205.000000  205.000000  205.000000  205.000000  205.000000   \n",
       "mean     0.834146   98.756585  174.049268   65.907805   53.724878   \n",
       "std      1.245307    6.021776   12.337289    2.145204    2.443522   \n",
       "min     -2.000000   86.600000  141.100000   60.300000   47.800000   \n",
       "25%      0.000000   94.500000  166.300000   64.100000   52.000000   \n",
       "50%      1.000000   97.000000  173.200000   65.500000   54.100000   \n",
       "75%      2.000000  102.400000  183.100000   66.900000   55.500000   \n",
       "max      3.000000  120.900000  208.100000   72.300000   59.800000   \n",
       "\n",
       "       curb-weight  engine-size  compression-ratio    city-mpg  highway-mpg  \n",
       "count   205.000000   205.000000         205.000000  205.000000   205.000000  \n",
       "mean   2555.565854   126.907317          10.142537   25.219512    30.751220  \n",
       "std     520.680204    41.642693           3.972040    6.542142     6.886443  \n",
       "min    1488.000000    61.000000           7.000000   13.000000    16.000000  \n",
       "25%    2145.000000    97.000000           8.600000   19.000000    25.000000  \n",
       "50%    2414.000000   120.000000           9.000000   24.000000    30.000000  \n",
       "75%    2935.000000   141.000000           9.400000   30.000000    34.000000  \n",
       "max    4066.000000   326.000000          23.000000   49.000000    54.000000  "
      ]
     },
     "execution_count": 6,
     "metadata": {},
     "output_type": "execute_result"
    }
   ],
   "source": [
    "data.describe()"
   ]
  },
  {
   "cell_type": "code",
   "execution_count": 7,
   "id": "b53993f2",
   "metadata": {
    "execution": {
     "iopub.execute_input": "2023-03-20T20:55:12.668248Z",
     "iopub.status.busy": "2023-03-20T20:55:12.667131Z",
     "iopub.status.idle": "2023-03-20T20:55:12.693766Z",
     "shell.execute_reply": "2023-03-20T20:55:12.692843Z"
    },
    "papermill": {
     "duration": 0.04158,
     "end_time": "2023-03-20T20:55:12.696013",
     "exception": false,
     "start_time": "2023-03-20T20:55:12.654433",
     "status": "completed"
    },
    "tags": []
   },
   "outputs": [
    {
     "data": {
      "text/html": [
       "<div>\n",
       "<style scoped>\n",
       "    .dataframe tbody tr th:only-of-type {\n",
       "        vertical-align: middle;\n",
       "    }\n",
       "\n",
       "    .dataframe tbody tr th {\n",
       "        vertical-align: top;\n",
       "    }\n",
       "\n",
       "    .dataframe thead th {\n",
       "        text-align: right;\n",
       "    }\n",
       "</style>\n",
       "<table border=\"1\" class=\"dataframe\">\n",
       "  <thead>\n",
       "    <tr style=\"text-align: right;\">\n",
       "      <th></th>\n",
       "      <th>symboling</th>\n",
       "      <th>normalized-losses</th>\n",
       "      <th>make</th>\n",
       "      <th>fuel-type</th>\n",
       "      <th>aspiration</th>\n",
       "      <th>num-of-doors</th>\n",
       "      <th>body-style</th>\n",
       "      <th>drive-wheels</th>\n",
       "      <th>engine-location</th>\n",
       "      <th>wheel-base</th>\n",
       "      <th>...</th>\n",
       "      <th>engine-size</th>\n",
       "      <th>fuel-system</th>\n",
       "      <th>bore</th>\n",
       "      <th>stroke</th>\n",
       "      <th>compression-ratio</th>\n",
       "      <th>horsepower</th>\n",
       "      <th>peak-rpm</th>\n",
       "      <th>city-mpg</th>\n",
       "      <th>highway-mpg</th>\n",
       "      <th>price</th>\n",
       "    </tr>\n",
       "  </thead>\n",
       "  <tbody>\n",
       "    <tr>\n",
       "      <th>0</th>\n",
       "      <td>3</td>\n",
       "      <td>?</td>\n",
       "      <td>alfa-romero</td>\n",
       "      <td>gas</td>\n",
       "      <td>std</td>\n",
       "      <td>two</td>\n",
       "      <td>convertible</td>\n",
       "      <td>rwd</td>\n",
       "      <td>front</td>\n",
       "      <td>88.6</td>\n",
       "      <td>...</td>\n",
       "      <td>130</td>\n",
       "      <td>mpfi</td>\n",
       "      <td>3.47</td>\n",
       "      <td>2.68</td>\n",
       "      <td>9.0</td>\n",
       "      <td>111</td>\n",
       "      <td>5000</td>\n",
       "      <td>21</td>\n",
       "      <td>27</td>\n",
       "      <td>13495</td>\n",
       "    </tr>\n",
       "    <tr>\n",
       "      <th>1</th>\n",
       "      <td>3</td>\n",
       "      <td>?</td>\n",
       "      <td>alfa-romero</td>\n",
       "      <td>gas</td>\n",
       "      <td>std</td>\n",
       "      <td>two</td>\n",
       "      <td>convertible</td>\n",
       "      <td>rwd</td>\n",
       "      <td>front</td>\n",
       "      <td>88.6</td>\n",
       "      <td>...</td>\n",
       "      <td>130</td>\n",
       "      <td>mpfi</td>\n",
       "      <td>3.47</td>\n",
       "      <td>2.68</td>\n",
       "      <td>9.0</td>\n",
       "      <td>111</td>\n",
       "      <td>5000</td>\n",
       "      <td>21</td>\n",
       "      <td>27</td>\n",
       "      <td>16500</td>\n",
       "    </tr>\n",
       "    <tr>\n",
       "      <th>2</th>\n",
       "      <td>1</td>\n",
       "      <td>?</td>\n",
       "      <td>alfa-romero</td>\n",
       "      <td>gas</td>\n",
       "      <td>std</td>\n",
       "      <td>two</td>\n",
       "      <td>hatchback</td>\n",
       "      <td>rwd</td>\n",
       "      <td>front</td>\n",
       "      <td>94.5</td>\n",
       "      <td>...</td>\n",
       "      <td>152</td>\n",
       "      <td>mpfi</td>\n",
       "      <td>2.68</td>\n",
       "      <td>3.47</td>\n",
       "      <td>9.0</td>\n",
       "      <td>154</td>\n",
       "      <td>5000</td>\n",
       "      <td>19</td>\n",
       "      <td>26</td>\n",
       "      <td>16500</td>\n",
       "    </tr>\n",
       "    <tr>\n",
       "      <th>3</th>\n",
       "      <td>2</td>\n",
       "      <td>164</td>\n",
       "      <td>audi</td>\n",
       "      <td>gas</td>\n",
       "      <td>std</td>\n",
       "      <td>four</td>\n",
       "      <td>sedan</td>\n",
       "      <td>fwd</td>\n",
       "      <td>front</td>\n",
       "      <td>99.8</td>\n",
       "      <td>...</td>\n",
       "      <td>109</td>\n",
       "      <td>mpfi</td>\n",
       "      <td>3.19</td>\n",
       "      <td>3.4</td>\n",
       "      <td>10.0</td>\n",
       "      <td>102</td>\n",
       "      <td>5500</td>\n",
       "      <td>24</td>\n",
       "      <td>30</td>\n",
       "      <td>13950</td>\n",
       "    </tr>\n",
       "    <tr>\n",
       "      <th>4</th>\n",
       "      <td>2</td>\n",
       "      <td>164</td>\n",
       "      <td>audi</td>\n",
       "      <td>gas</td>\n",
       "      <td>std</td>\n",
       "      <td>four</td>\n",
       "      <td>sedan</td>\n",
       "      <td>4wd</td>\n",
       "      <td>front</td>\n",
       "      <td>99.4</td>\n",
       "      <td>...</td>\n",
       "      <td>136</td>\n",
       "      <td>mpfi</td>\n",
       "      <td>3.19</td>\n",
       "      <td>3.4</td>\n",
       "      <td>8.0</td>\n",
       "      <td>115</td>\n",
       "      <td>5500</td>\n",
       "      <td>18</td>\n",
       "      <td>22</td>\n",
       "      <td>17450</td>\n",
       "    </tr>\n",
       "  </tbody>\n",
       "</table>\n",
       "<p>5 rows × 26 columns</p>\n",
       "</div>"
      ],
      "text/plain": [
       "   symboling normalized-losses         make fuel-type aspiration num-of-doors  \\\n",
       "0          3                 ?  alfa-romero       gas        std          two   \n",
       "1          3                 ?  alfa-romero       gas        std          two   \n",
       "2          1                 ?  alfa-romero       gas        std          two   \n",
       "3          2               164         audi       gas        std         four   \n",
       "4          2               164         audi       gas        std         four   \n",
       "\n",
       "    body-style drive-wheels engine-location  wheel-base  ...  engine-size  \\\n",
       "0  convertible          rwd           front        88.6  ...          130   \n",
       "1  convertible          rwd           front        88.6  ...          130   \n",
       "2    hatchback          rwd           front        94.5  ...          152   \n",
       "3        sedan          fwd           front        99.8  ...          109   \n",
       "4        sedan          4wd           front        99.4  ...          136   \n",
       "\n",
       "   fuel-system  bore  stroke compression-ratio horsepower  peak-rpm city-mpg  \\\n",
       "0         mpfi  3.47    2.68               9.0        111      5000       21   \n",
       "1         mpfi  3.47    2.68               9.0        111      5000       21   \n",
       "2         mpfi  2.68    3.47               9.0        154      5000       19   \n",
       "3         mpfi  3.19     3.4              10.0        102      5500       24   \n",
       "4         mpfi  3.19     3.4               8.0        115      5500       18   \n",
       "\n",
       "  highway-mpg  price  \n",
       "0          27  13495  \n",
       "1          27  16500  \n",
       "2          26  16500  \n",
       "3          30  13950  \n",
       "4          22  17450  \n",
       "\n",
       "[5 rows x 26 columns]"
      ]
     },
     "execution_count": 7,
     "metadata": {},
     "output_type": "execute_result"
    }
   ],
   "source": [
    "data.head()"
   ]
  },
  {
   "cell_type": "code",
   "execution_count": 8,
   "id": "f6bf8f45",
   "metadata": {
    "execution": {
     "iopub.execute_input": "2023-03-20T20:55:12.722081Z",
     "iopub.status.busy": "2023-03-20T20:55:12.721284Z",
     "iopub.status.idle": "2023-03-20T20:55:12.747242Z",
     "shell.execute_reply": "2023-03-20T20:55:12.745886Z"
    },
    "papermill": {
     "duration": 0.042309,
     "end_time": "2023-03-20T20:55:12.750216",
     "exception": false,
     "start_time": "2023-03-20T20:55:12.707907",
     "status": "completed"
    },
    "tags": []
   },
   "outputs": [
    {
     "data": {
      "text/html": [
       "<div>\n",
       "<style scoped>\n",
       "    .dataframe tbody tr th:only-of-type {\n",
       "        vertical-align: middle;\n",
       "    }\n",
       "\n",
       "    .dataframe tbody tr th {\n",
       "        vertical-align: top;\n",
       "    }\n",
       "\n",
       "    .dataframe thead th {\n",
       "        text-align: right;\n",
       "    }\n",
       "</style>\n",
       "<table border=\"1\" class=\"dataframe\">\n",
       "  <thead>\n",
       "    <tr style=\"text-align: right;\">\n",
       "      <th></th>\n",
       "      <th>symboling</th>\n",
       "      <th>normalized-losses</th>\n",
       "      <th>make</th>\n",
       "      <th>fuel-type</th>\n",
       "      <th>aspiration</th>\n",
       "      <th>num-of-doors</th>\n",
       "      <th>body-style</th>\n",
       "      <th>drive-wheels</th>\n",
       "      <th>engine-location</th>\n",
       "      <th>wheel-base</th>\n",
       "      <th>...</th>\n",
       "      <th>engine-size</th>\n",
       "      <th>fuel-system</th>\n",
       "      <th>bore</th>\n",
       "      <th>stroke</th>\n",
       "      <th>compression-ratio</th>\n",
       "      <th>horsepower</th>\n",
       "      <th>peak-rpm</th>\n",
       "      <th>city-mpg</th>\n",
       "      <th>highway-mpg</th>\n",
       "      <th>price</th>\n",
       "    </tr>\n",
       "  </thead>\n",
       "  <tbody>\n",
       "    <tr>\n",
       "      <th>200</th>\n",
       "      <td>-1</td>\n",
       "      <td>95</td>\n",
       "      <td>volvo</td>\n",
       "      <td>gas</td>\n",
       "      <td>std</td>\n",
       "      <td>four</td>\n",
       "      <td>sedan</td>\n",
       "      <td>rwd</td>\n",
       "      <td>front</td>\n",
       "      <td>109.1</td>\n",
       "      <td>...</td>\n",
       "      <td>141</td>\n",
       "      <td>mpfi</td>\n",
       "      <td>3.78</td>\n",
       "      <td>3.15</td>\n",
       "      <td>9.5</td>\n",
       "      <td>114</td>\n",
       "      <td>5400</td>\n",
       "      <td>23</td>\n",
       "      <td>28</td>\n",
       "      <td>16845</td>\n",
       "    </tr>\n",
       "    <tr>\n",
       "      <th>201</th>\n",
       "      <td>-1</td>\n",
       "      <td>95</td>\n",
       "      <td>volvo</td>\n",
       "      <td>gas</td>\n",
       "      <td>turbo</td>\n",
       "      <td>four</td>\n",
       "      <td>sedan</td>\n",
       "      <td>rwd</td>\n",
       "      <td>front</td>\n",
       "      <td>109.1</td>\n",
       "      <td>...</td>\n",
       "      <td>141</td>\n",
       "      <td>mpfi</td>\n",
       "      <td>3.78</td>\n",
       "      <td>3.15</td>\n",
       "      <td>8.7</td>\n",
       "      <td>160</td>\n",
       "      <td>5300</td>\n",
       "      <td>19</td>\n",
       "      <td>25</td>\n",
       "      <td>19045</td>\n",
       "    </tr>\n",
       "    <tr>\n",
       "      <th>202</th>\n",
       "      <td>-1</td>\n",
       "      <td>95</td>\n",
       "      <td>volvo</td>\n",
       "      <td>gas</td>\n",
       "      <td>std</td>\n",
       "      <td>four</td>\n",
       "      <td>sedan</td>\n",
       "      <td>rwd</td>\n",
       "      <td>front</td>\n",
       "      <td>109.1</td>\n",
       "      <td>...</td>\n",
       "      <td>173</td>\n",
       "      <td>mpfi</td>\n",
       "      <td>3.58</td>\n",
       "      <td>2.87</td>\n",
       "      <td>8.8</td>\n",
       "      <td>134</td>\n",
       "      <td>5500</td>\n",
       "      <td>18</td>\n",
       "      <td>23</td>\n",
       "      <td>21485</td>\n",
       "    </tr>\n",
       "    <tr>\n",
       "      <th>203</th>\n",
       "      <td>-1</td>\n",
       "      <td>95</td>\n",
       "      <td>volvo</td>\n",
       "      <td>diesel</td>\n",
       "      <td>turbo</td>\n",
       "      <td>four</td>\n",
       "      <td>sedan</td>\n",
       "      <td>rwd</td>\n",
       "      <td>front</td>\n",
       "      <td>109.1</td>\n",
       "      <td>...</td>\n",
       "      <td>145</td>\n",
       "      <td>idi</td>\n",
       "      <td>3.01</td>\n",
       "      <td>3.4</td>\n",
       "      <td>23.0</td>\n",
       "      <td>106</td>\n",
       "      <td>4800</td>\n",
       "      <td>26</td>\n",
       "      <td>27</td>\n",
       "      <td>22470</td>\n",
       "    </tr>\n",
       "    <tr>\n",
       "      <th>204</th>\n",
       "      <td>-1</td>\n",
       "      <td>95</td>\n",
       "      <td>volvo</td>\n",
       "      <td>gas</td>\n",
       "      <td>turbo</td>\n",
       "      <td>four</td>\n",
       "      <td>sedan</td>\n",
       "      <td>rwd</td>\n",
       "      <td>front</td>\n",
       "      <td>109.1</td>\n",
       "      <td>...</td>\n",
       "      <td>141</td>\n",
       "      <td>mpfi</td>\n",
       "      <td>3.78</td>\n",
       "      <td>3.15</td>\n",
       "      <td>9.5</td>\n",
       "      <td>114</td>\n",
       "      <td>5400</td>\n",
       "      <td>19</td>\n",
       "      <td>25</td>\n",
       "      <td>22625</td>\n",
       "    </tr>\n",
       "  </tbody>\n",
       "</table>\n",
       "<p>5 rows × 26 columns</p>\n",
       "</div>"
      ],
      "text/plain": [
       "     symboling normalized-losses   make fuel-type aspiration num-of-doors  \\\n",
       "200         -1                95  volvo       gas        std         four   \n",
       "201         -1                95  volvo       gas      turbo         four   \n",
       "202         -1                95  volvo       gas        std         four   \n",
       "203         -1                95  volvo    diesel      turbo         four   \n",
       "204         -1                95  volvo       gas      turbo         four   \n",
       "\n",
       "    body-style drive-wheels engine-location  wheel-base  ...  engine-size  \\\n",
       "200      sedan          rwd           front       109.1  ...          141   \n",
       "201      sedan          rwd           front       109.1  ...          141   \n",
       "202      sedan          rwd           front       109.1  ...          173   \n",
       "203      sedan          rwd           front       109.1  ...          145   \n",
       "204      sedan          rwd           front       109.1  ...          141   \n",
       "\n",
       "     fuel-system  bore  stroke compression-ratio horsepower  peak-rpm  \\\n",
       "200         mpfi  3.78    3.15               9.5        114      5400   \n",
       "201         mpfi  3.78    3.15               8.7        160      5300   \n",
       "202         mpfi  3.58    2.87               8.8        134      5500   \n",
       "203          idi  3.01     3.4              23.0        106      4800   \n",
       "204         mpfi  3.78    3.15               9.5        114      5400   \n",
       "\n",
       "    city-mpg highway-mpg  price  \n",
       "200       23          28  16845  \n",
       "201       19          25  19045  \n",
       "202       18          23  21485  \n",
       "203       26          27  22470  \n",
       "204       19          25  22625  \n",
       "\n",
       "[5 rows x 26 columns]"
      ]
     },
     "execution_count": 8,
     "metadata": {},
     "output_type": "execute_result"
    }
   ],
   "source": [
    "data.tail()"
   ]
  },
  {
   "cell_type": "markdown",
   "id": "e0180374",
   "metadata": {
    "papermill": {
     "duration": 0.011676,
     "end_time": "2023-03-20T20:55:12.774144",
     "exception": false,
     "start_time": "2023-03-20T20:55:12.762468",
     "status": "completed"
    },
    "tags": []
   },
   "source": [
    "# Checking missing values"
   ]
  },
  {
   "cell_type": "code",
   "execution_count": 9,
   "id": "571b3e6a",
   "metadata": {
    "execution": {
     "iopub.execute_input": "2023-03-20T20:55:12.800276Z",
     "iopub.status.busy": "2023-03-20T20:55:12.799855Z",
     "iopub.status.idle": "2023-03-20T20:55:12.811681Z",
     "shell.execute_reply": "2023-03-20T20:55:12.810605Z"
    },
    "papermill": {
     "duration": 0.028024,
     "end_time": "2023-03-20T20:55:12.814247",
     "exception": false,
     "start_time": "2023-03-20T20:55:12.786223",
     "status": "completed"
    },
    "tags": []
   },
   "outputs": [
    {
     "data": {
      "text/plain": [
       "symboling            0\n",
       "normalized-losses    0\n",
       "highway-mpg          0\n",
       "city-mpg             0\n",
       "peak-rpm             0\n",
       "horsepower           0\n",
       "compression-ratio    0\n",
       "stroke               0\n",
       "bore                 0\n",
       "fuel-system          0\n",
       "engine-size          0\n",
       "num-of-cylinders     0\n",
       "engine-type          0\n",
       "curb-weight          0\n",
       "height               0\n",
       "width                0\n",
       "length               0\n",
       "wheel-base           0\n",
       "engine-location      0\n",
       "drive-wheels         0\n",
       "body-style           0\n",
       "num-of-doors         0\n",
       "aspiration           0\n",
       "fuel-type            0\n",
       "make                 0\n",
       "price                0\n",
       "dtype: int64"
      ]
     },
     "execution_count": 9,
     "metadata": {},
     "output_type": "execute_result"
    }
   ],
   "source": [
    "count_miss = data.isna().sum().sort_values(ascending=False)\n",
    "# count_miss = data.isnull().sum().sort_values(ascending=False)\n",
    "count_miss"
   ]
  },
  {
   "cell_type": "markdown",
   "id": "d3b52eac",
   "metadata": {
    "papermill": {
     "duration": 0.011851,
     "end_time": "2023-03-20T20:55:12.838443",
     "exception": false,
     "start_time": "2023-03-20T20:55:12.826592",
     "status": "completed"
    },
    "tags": []
   },
   "source": []
  },
  {
   "cell_type": "code",
   "execution_count": 10,
   "id": "b5039194",
   "metadata": {
    "execution": {
     "iopub.execute_input": "2023-03-20T20:55:12.864947Z",
     "iopub.status.busy": "2023-03-20T20:55:12.864523Z",
     "iopub.status.idle": "2023-03-20T20:55:12.875027Z",
     "shell.execute_reply": "2023-03-20T20:55:12.874182Z"
    },
    "papermill": {
     "duration": 0.026464,
     "end_time": "2023-03-20T20:55:12.877057",
     "exception": false,
     "start_time": "2023-03-20T20:55:12.850593",
     "status": "completed"
    },
    "tags": []
   },
   "outputs": [
    {
     "data": {
      "text/plain": [
       "normalized-losses    41\n",
       "price                 4\n",
       "stroke                4\n",
       "bore                  4\n",
       "peak-rpm              2\n",
       "num-of-doors          2\n",
       "horsepower            2\n",
       "engine-type           0\n",
       "highway-mpg           0\n",
       "city-mpg              0\n",
       "compression-ratio     0\n",
       "fuel-system           0\n",
       "engine-size           0\n",
       "num-of-cylinders      0\n",
       "symboling             0\n",
       "height                0\n",
       "width                 0\n",
       "length                0\n",
       "wheel-base            0\n",
       "engine-location       0\n",
       "drive-wheels          0\n",
       "body-style            0\n",
       "aspiration            0\n",
       "fuel-type             0\n",
       "make                  0\n",
       "curb-weight           0\n",
       "dtype: int64"
      ]
     },
     "execution_count": 10,
     "metadata": {},
     "output_type": "execute_result"
    }
   ],
   "source": [
    "#check inappropriate values\n",
    "count_wrong = data.isin(['?']).sum().sort_values(ascending=False)\n",
    "count_wrong"
   ]
  },
  {
   "cell_type": "code",
   "execution_count": 11,
   "id": "8fa0c8c5",
   "metadata": {
    "execution": {
     "iopub.execute_input": "2023-03-20T20:55:12.904239Z",
     "iopub.status.busy": "2023-03-20T20:55:12.903391Z",
     "iopub.status.idle": "2023-03-20T20:55:12.910317Z",
     "shell.execute_reply": "2023-03-20T20:55:12.908796Z"
    },
    "papermill": {
     "duration": 0.023695,
     "end_time": "2023-03-20T20:55:12.913085",
     "exception": false,
     "start_time": "2023-03-20T20:55:12.889390",
     "status": "completed"
    },
    "tags": []
   },
   "outputs": [],
   "source": [
    "# Replace '?' with Nan values\n",
    "new = data.replace('?', np.nan)"
   ]
  },
  {
   "cell_type": "code",
   "execution_count": 12,
   "id": "819df84c",
   "metadata": {
    "execution": {
     "iopub.execute_input": "2023-03-20T20:55:12.940970Z",
     "iopub.status.busy": "2023-03-20T20:55:12.939703Z",
     "iopub.status.idle": "2023-03-20T20:55:12.951740Z",
     "shell.execute_reply": "2023-03-20T20:55:12.950897Z"
    },
    "papermill": {
     "duration": 0.02836,
     "end_time": "2023-03-20T20:55:12.954032",
     "exception": false,
     "start_time": "2023-03-20T20:55:12.925672",
     "status": "completed"
    },
    "tags": []
   },
   "outputs": [
    {
     "data": {
      "text/plain": [
       "normalized-losses    41\n",
       "price                 4\n",
       "stroke                4\n",
       "bore                  4\n",
       "peak-rpm              2\n",
       "num-of-doors          2\n",
       "horsepower            2\n",
       "engine-type           0\n",
       "highway-mpg           0\n",
       "city-mpg              0\n",
       "compression-ratio     0\n",
       "fuel-system           0\n",
       "engine-size           0\n",
       "num-of-cylinders      0\n",
       "symboling             0\n",
       "height                0\n",
       "width                 0\n",
       "length                0\n",
       "wheel-base            0\n",
       "engine-location       0\n",
       "drive-wheels          0\n",
       "body-style            0\n",
       "aspiration            0\n",
       "fuel-type             0\n",
       "make                  0\n",
       "curb-weight           0\n",
       "dtype: int64"
      ]
     },
     "execution_count": 12,
     "metadata": {},
     "output_type": "execute_result"
    }
   ],
   "source": [
    "count_miss = new.isna().sum().sort_values(ascending=False)\n",
    "count_miss"
   ]
  },
  {
   "cell_type": "markdown",
   "id": "82121419",
   "metadata": {
    "papermill": {
     "duration": 0.01219,
     "end_time": "2023-03-20T20:55:12.978835",
     "exception": false,
     "start_time": "2023-03-20T20:55:12.966645",
     "status": "completed"
    },
    "tags": []
   },
   "source": [
    "# Fill missing values with median or modus"
   ]
  },
  {
   "cell_type": "code",
   "execution_count": 13,
   "id": "5f3d3e06",
   "metadata": {
    "execution": {
     "iopub.execute_input": "2023-03-20T20:55:13.006935Z",
     "iopub.status.busy": "2023-03-20T20:55:13.005896Z",
     "iopub.status.idle": "2023-03-20T20:55:13.030005Z",
     "shell.execute_reply": "2023-03-20T20:55:13.029106Z"
    },
    "papermill": {
     "duration": 0.040399,
     "end_time": "2023-03-20T20:55:13.032455",
     "exception": false,
     "start_time": "2023-03-20T20:55:12.992056",
     "status": "completed"
    },
    "tags": []
   },
   "outputs": [
    {
     "data": {
      "text/html": [
       "<div>\n",
       "<style scoped>\n",
       "    .dataframe tbody tr th:only-of-type {\n",
       "        vertical-align: middle;\n",
       "    }\n",
       "\n",
       "    .dataframe tbody tr th {\n",
       "        vertical-align: top;\n",
       "    }\n",
       "\n",
       "    .dataframe thead th {\n",
       "        text-align: right;\n",
       "    }\n",
       "</style>\n",
       "<table border=\"1\" class=\"dataframe\">\n",
       "  <thead>\n",
       "    <tr style=\"text-align: right;\">\n",
       "      <th></th>\n",
       "      <th>symboling</th>\n",
       "      <th>normalized-losses</th>\n",
       "      <th>make</th>\n",
       "      <th>fuel-type</th>\n",
       "      <th>aspiration</th>\n",
       "      <th>num-of-doors</th>\n",
       "      <th>body-style</th>\n",
       "      <th>drive-wheels</th>\n",
       "      <th>engine-location</th>\n",
       "      <th>wheel-base</th>\n",
       "      <th>...</th>\n",
       "      <th>engine-size</th>\n",
       "      <th>fuel-system</th>\n",
       "      <th>bore</th>\n",
       "      <th>stroke</th>\n",
       "      <th>compression-ratio</th>\n",
       "      <th>horsepower</th>\n",
       "      <th>peak-rpm</th>\n",
       "      <th>city-mpg</th>\n",
       "      <th>highway-mpg</th>\n",
       "      <th>price</th>\n",
       "    </tr>\n",
       "  </thead>\n",
       "  <tbody>\n",
       "    <tr>\n",
       "      <th>0</th>\n",
       "      <td>3</td>\n",
       "      <td>NaN</td>\n",
       "      <td>alfa-romero</td>\n",
       "      <td>gas</td>\n",
       "      <td>std</td>\n",
       "      <td>two</td>\n",
       "      <td>convertible</td>\n",
       "      <td>rwd</td>\n",
       "      <td>front</td>\n",
       "      <td>88.6</td>\n",
       "      <td>...</td>\n",
       "      <td>130</td>\n",
       "      <td>mpfi</td>\n",
       "      <td>3.47</td>\n",
       "      <td>2.68</td>\n",
       "      <td>9.0</td>\n",
       "      <td>111</td>\n",
       "      <td>5000</td>\n",
       "      <td>21</td>\n",
       "      <td>27</td>\n",
       "      <td>13495</td>\n",
       "    </tr>\n",
       "    <tr>\n",
       "      <th>1</th>\n",
       "      <td>3</td>\n",
       "      <td>NaN</td>\n",
       "      <td>alfa-romero</td>\n",
       "      <td>gas</td>\n",
       "      <td>std</td>\n",
       "      <td>two</td>\n",
       "      <td>convertible</td>\n",
       "      <td>rwd</td>\n",
       "      <td>front</td>\n",
       "      <td>88.6</td>\n",
       "      <td>...</td>\n",
       "      <td>130</td>\n",
       "      <td>mpfi</td>\n",
       "      <td>3.47</td>\n",
       "      <td>2.68</td>\n",
       "      <td>9.0</td>\n",
       "      <td>111</td>\n",
       "      <td>5000</td>\n",
       "      <td>21</td>\n",
       "      <td>27</td>\n",
       "      <td>16500</td>\n",
       "    </tr>\n",
       "    <tr>\n",
       "      <th>2</th>\n",
       "      <td>1</td>\n",
       "      <td>NaN</td>\n",
       "      <td>alfa-romero</td>\n",
       "      <td>gas</td>\n",
       "      <td>std</td>\n",
       "      <td>two</td>\n",
       "      <td>hatchback</td>\n",
       "      <td>rwd</td>\n",
       "      <td>front</td>\n",
       "      <td>94.5</td>\n",
       "      <td>...</td>\n",
       "      <td>152</td>\n",
       "      <td>mpfi</td>\n",
       "      <td>2.68</td>\n",
       "      <td>3.47</td>\n",
       "      <td>9.0</td>\n",
       "      <td>154</td>\n",
       "      <td>5000</td>\n",
       "      <td>19</td>\n",
       "      <td>26</td>\n",
       "      <td>16500</td>\n",
       "    </tr>\n",
       "  </tbody>\n",
       "</table>\n",
       "<p>3 rows × 26 columns</p>\n",
       "</div>"
      ],
      "text/plain": [
       "   symboling normalized-losses         make fuel-type aspiration num-of-doors  \\\n",
       "0          3               NaN  alfa-romero       gas        std          two   \n",
       "1          3               NaN  alfa-romero       gas        std          two   \n",
       "2          1               NaN  alfa-romero       gas        std          two   \n",
       "\n",
       "    body-style drive-wheels engine-location  wheel-base  ...  engine-size  \\\n",
       "0  convertible          rwd           front        88.6  ...          130   \n",
       "1  convertible          rwd           front        88.6  ...          130   \n",
       "2    hatchback          rwd           front        94.5  ...          152   \n",
       "\n",
       "   fuel-system  bore  stroke compression-ratio horsepower  peak-rpm city-mpg  \\\n",
       "0         mpfi  3.47    2.68               9.0        111      5000       21   \n",
       "1         mpfi  3.47    2.68               9.0        111      5000       21   \n",
       "2         mpfi  2.68    3.47               9.0        154      5000       19   \n",
       "\n",
       "  highway-mpg  price  \n",
       "0          27  13495  \n",
       "1          27  16500  \n",
       "2          26  16500  \n",
       "\n",
       "[3 rows x 26 columns]"
      ]
     },
     "execution_count": 13,
     "metadata": {},
     "output_type": "execute_result"
    }
   ],
   "source": [
    "new.head(3)"
   ]
  },
  {
   "cell_type": "markdown",
   "id": "7d924128",
   "metadata": {
    "papermill": {
     "duration": 0.01247,
     "end_time": "2023-03-20T20:55:13.058136",
     "exception": false,
     "start_time": "2023-03-20T20:55:13.045666",
     "status": "completed"
    },
    "tags": []
   },
   "source": [
    "### Convert non-object columns to numerical columns"
   ]
  },
  {
   "cell_type": "code",
   "execution_count": 14,
   "id": "11c4500d",
   "metadata": {
    "execution": {
     "iopub.execute_input": "2023-03-20T20:55:13.085871Z",
     "iopub.status.busy": "2023-03-20T20:55:13.085095Z",
     "iopub.status.idle": "2023-03-20T20:55:13.098991Z",
     "shell.execute_reply": "2023-03-20T20:55:13.098116Z"
    },
    "papermill": {
     "duration": 0.030403,
     "end_time": "2023-03-20T20:55:13.101303",
     "exception": false,
     "start_time": "2023-03-20T20:55:13.070900",
     "status": "completed"
    },
    "tags": []
   },
   "outputs": [
    {
     "data": {
      "text/plain": [
       "symboling              int64\n",
       "normalized-losses    float64\n",
       "make                  object\n",
       "fuel-type             object\n",
       "aspiration            object\n",
       "num-of-doors          object\n",
       "body-style            object\n",
       "drive-wheels          object\n",
       "engine-location       object\n",
       "wheel-base           float64\n",
       "length               float64\n",
       "width                float64\n",
       "height               float64\n",
       "curb-weight            int64\n",
       "engine-type           object\n",
       "num-of-cylinders      object\n",
       "engine-size            int64\n",
       "fuel-system           object\n",
       "bore                 float64\n",
       "stroke               float64\n",
       "compression-ratio    float64\n",
       "horsepower           float64\n",
       "peak-rpm             float64\n",
       "city-mpg               int64\n",
       "highway-mpg            int64\n",
       "price                float64\n",
       "dtype: object"
      ]
     },
     "execution_count": 14,
     "metadata": {},
     "output_type": "execute_result"
    }
   ],
   "source": [
    "# Convert types of multiple columns\n",
    "new = new.astype({'normalized-losses':'float','bore':'float', 'stroke':'float', 'horsepower':'float', 'peak-rpm':'float', 'price':'float'})\n",
    "new.dtypes"
   ]
  },
  {
   "cell_type": "markdown",
   "id": "2635e0cc",
   "metadata": {
    "papermill": {
     "duration": 0.013835,
     "end_time": "2023-03-20T20:55:13.128237",
     "exception": false,
     "start_time": "2023-03-20T20:55:13.114402",
     "status": "completed"
    },
    "tags": []
   },
   "source": [
    "### Clasify columns type to numerical or categorical"
   ]
  },
  {
   "cell_type": "code",
   "execution_count": 15,
   "id": "e247900e",
   "metadata": {
    "execution": {
     "iopub.execute_input": "2023-03-20T20:55:13.157236Z",
     "iopub.status.busy": "2023-03-20T20:55:13.156719Z",
     "iopub.status.idle": "2023-03-20T20:55:13.169379Z",
     "shell.execute_reply": "2023-03-20T20:55:13.168016Z"
    },
    "papermill": {
     "duration": 0.030059,
     "end_time": "2023-03-20T20:55:13.171853",
     "exception": false,
     "start_time": "2023-03-20T20:55:13.141794",
     "status": "completed"
    },
    "tags": []
   },
   "outputs": [
    {
     "data": {
      "text/plain": [
       "normalized-losses    41\n",
       "bore                  4\n",
       "stroke                4\n",
       "price                 4\n",
       "horsepower            2\n",
       "peak-rpm              2\n",
       "symboling             0\n",
       "wheel-base            0\n",
       "length                0\n",
       "width                 0\n",
       "height                0\n",
       "curb-weight           0\n",
       "engine-size           0\n",
       "compression-ratio     0\n",
       "city-mpg              0\n",
       "highway-mpg           0\n",
       "dtype: int64"
      ]
     },
     "execution_count": 15,
     "metadata": {},
     "output_type": "execute_result"
    }
   ],
   "source": [
    "numerical = new.columns[new.dtypes != object]\n",
    "new[numerical].isnull().sum().sort_values(ascending=False)\n"
   ]
  },
  {
   "cell_type": "code",
   "execution_count": 16,
   "id": "eafb76e8",
   "metadata": {
    "execution": {
     "iopub.execute_input": "2023-03-20T20:55:13.200300Z",
     "iopub.status.busy": "2023-03-20T20:55:13.199573Z",
     "iopub.status.idle": "2023-03-20T20:55:13.210428Z",
     "shell.execute_reply": "2023-03-20T20:55:13.209335Z"
    },
    "papermill": {
     "duration": 0.027572,
     "end_time": "2023-03-20T20:55:13.212674",
     "exception": false,
     "start_time": "2023-03-20T20:55:13.185102",
     "status": "completed"
    },
    "tags": []
   },
   "outputs": [
    {
     "data": {
      "text/plain": [
       "num-of-doors        2\n",
       "make                0\n",
       "fuel-type           0\n",
       "aspiration          0\n",
       "body-style          0\n",
       "drive-wheels        0\n",
       "engine-location     0\n",
       "engine-type         0\n",
       "num-of-cylinders    0\n",
       "fuel-system         0\n",
       "dtype: int64"
      ]
     },
     "execution_count": 16,
     "metadata": {},
     "output_type": "execute_result"
    }
   ],
   "source": [
    "categorical = new.columns[new.dtypes == object]\n",
    "new[categorical].isnull().sum().sort_values(ascending=False)"
   ]
  },
  {
   "cell_type": "code",
   "execution_count": 17,
   "id": "97d1d675",
   "metadata": {
    "execution": {
     "iopub.execute_input": "2023-03-20T20:55:13.241030Z",
     "iopub.status.busy": "2023-03-20T20:55:13.240340Z",
     "iopub.status.idle": "2023-03-20T20:55:13.260429Z",
     "shell.execute_reply": "2023-03-20T20:55:13.258960Z"
    },
    "papermill": {
     "duration": 0.037585,
     "end_time": "2023-03-20T20:55:13.263238",
     "exception": false,
     "start_time": "2023-03-20T20:55:13.225653",
     "status": "completed"
    },
    "tags": []
   },
   "outputs": [],
   "source": [
    "# Fill missing values in numerical columns with median\n",
    "for i in numerical:\n",
    "    new[i] = new[i].fillna(new[i].median())\n",
    "\n",
    "\n",
    "# Fill missing values in categorical columns with modus\n",
    "for i in categorical:\n",
    "    new[i] = new[i].fillna(new[i].mode().values[0])"
   ]
  },
  {
   "cell_type": "code",
   "execution_count": 18,
   "id": "1c3b74d2",
   "metadata": {
    "execution": {
     "iopub.execute_input": "2023-03-20T20:55:13.291934Z",
     "iopub.status.busy": "2023-03-20T20:55:13.291168Z",
     "iopub.status.idle": "2023-03-20T20:55:13.301119Z",
     "shell.execute_reply": "2023-03-20T20:55:13.299696Z"
    },
    "papermill": {
     "duration": 0.02756,
     "end_time": "2023-03-20T20:55:13.303986",
     "exception": false,
     "start_time": "2023-03-20T20:55:13.276426",
     "status": "completed"
    },
    "tags": []
   },
   "outputs": [
    {
     "data": {
      "text/plain": [
       "symboling            0\n",
       "normalized-losses    0\n",
       "highway-mpg          0\n",
       "city-mpg             0\n",
       "peak-rpm             0\n",
       "horsepower           0\n",
       "compression-ratio    0\n",
       "stroke               0\n",
       "bore                 0\n",
       "fuel-system          0\n",
       "engine-size          0\n",
       "num-of-cylinders     0\n",
       "engine-type          0\n",
       "curb-weight          0\n",
       "height               0\n",
       "width                0\n",
       "length               0\n",
       "wheel-base           0\n",
       "engine-location      0\n",
       "drive-wheels         0\n",
       "body-style           0\n",
       "num-of-doors         0\n",
       "aspiration           0\n",
       "fuel-type            0\n",
       "make                 0\n",
       "price                0\n",
       "dtype: int64"
      ]
     },
     "execution_count": 18,
     "metadata": {},
     "output_type": "execute_result"
    }
   ],
   "source": [
    "# Checking again missing values\n",
    "count_miss = new.isna().sum().sort_values(ascending=False)\n",
    "count_miss"
   ]
  },
  {
   "cell_type": "markdown",
   "id": "721861a0",
   "metadata": {
    "papermill": {
     "duration": 0.012813,
     "end_time": "2023-03-20T20:55:13.330151",
     "exception": false,
     "start_time": "2023-03-20T20:55:13.317338",
     "status": "completed"
    },
    "tags": []
   },
   "source": [
    "# Perform visualization using at least 5 difference visualization technique (barplot, scatter plot, area, boxplot, pie chart, line chart, etc)\n",
    "## 1. Histogram"
   ]
  },
  {
   "cell_type": "code",
   "execution_count": 19,
   "id": "cf444318",
   "metadata": {
    "execution": {
     "iopub.execute_input": "2023-03-20T20:55:13.358529Z",
     "iopub.status.busy": "2023-03-20T20:55:13.358105Z",
     "iopub.status.idle": "2023-03-20T20:55:13.653309Z",
     "shell.execute_reply": "2023-03-20T20:55:13.652040Z"
    },
    "papermill": {
     "duration": 0.312588,
     "end_time": "2023-03-20T20:55:13.655854",
     "exception": false,
     "start_time": "2023-03-20T20:55:13.343266",
     "status": "completed"
    },
    "tags": []
   },
   "outputs": [
    {
     "data": {
      "text/plain": [
       "(array([ 81., 130., 165., 182., 188., 191., 195., 202., 204., 205.]),\n",
       " array([ 5118. ,  9146.2, 13174.4, 17202.6, 21230.8, 25259. , 29287.2,\n",
       "        33315.4, 37343.6, 41371.8, 45400. ]),\n",
       " <BarContainer object of 10 artists>)"
      ]
     },
     "execution_count": 19,
     "metadata": {},
     "output_type": "execute_result"
    },
    {
     "data": {
      "image/png": "[encoded data removed]",
      "text/plain": [
       "<Figure size 640x480 with 1 Axes>"
      ]
     },
     "metadata": {},
     "output_type": "display_data"
    }
   ],
   "source": [
    "plt.hist(new['price'],facecolor='orange', edgecolor='black', bins=10, cumulative=True)"
   ]
  },
  {
   "cell_type": "markdown",
   "id": "6d22d9c2",
   "metadata": {
    "papermill": {
     "duration": 0.013614,
     "end_time": "2023-03-20T20:55:13.683292",
     "exception": false,
     "start_time": "2023-03-20T20:55:13.669678",
     "status": "completed"
    },
    "tags": []
   },
   "source": [
    "**Dapat dilihat model dengan kisaran harga 45000 paling banyak di pasaran**"
   ]
  },
  {
   "cell_type": "markdown",
   "id": "7ae3de54",
   "metadata": {
    "papermill": {
     "duration": 0.013456,
     "end_time": "2023-03-20T20:55:13.710782",
     "exception": false,
     "start_time": "2023-03-20T20:55:13.697326",
     "status": "completed"
    },
    "tags": []
   },
   "source": [
    "## 2. Bar Plot"
   ]
  },
  {
   "cell_type": "code",
   "execution_count": 20,
   "id": "4e14b3ac",
   "metadata": {
    "execution": {
     "iopub.execute_input": "2023-03-20T20:55:13.740840Z",
     "iopub.status.busy": "2023-03-20T20:55:13.739647Z",
     "iopub.status.idle": "2023-03-20T20:55:13.757731Z",
     "shell.execute_reply": "2023-03-20T20:55:13.756455Z"
    },
    "papermill": {
     "duration": 0.03559,
     "end_time": "2023-03-20T20:55:13.760153",
     "exception": false,
     "start_time": "2023-03-20T20:55:13.724563",
     "status": "completed"
    },
    "tags": []
   },
   "outputs": [
    {
     "data": {
      "text/html": [
       "<div>\n",
       "<style scoped>\n",
       "    .dataframe tbody tr th:only-of-type {\n",
       "        vertical-align: middle;\n",
       "    }\n",
       "\n",
       "    .dataframe tbody tr th {\n",
       "        vertical-align: top;\n",
       "    }\n",
       "\n",
       "    .dataframe thead th {\n",
       "        text-align: right;\n",
       "    }\n",
       "</style>\n",
       "<table border=\"1\" class=\"dataframe\">\n",
       "  <thead>\n",
       "    <tr style=\"text-align: right;\">\n",
       "      <th></th>\n",
       "      <th>make</th>\n",
       "      <th>fuel-type</th>\n",
       "      <th>aspiration</th>\n",
       "      <th>num-of-doors</th>\n",
       "      <th>body-style</th>\n",
       "      <th>drive-wheels</th>\n",
       "      <th>engine-location</th>\n",
       "      <th>engine-type</th>\n",
       "      <th>num-of-cylinders</th>\n",
       "      <th>fuel-system</th>\n",
       "    </tr>\n",
       "  </thead>\n",
       "  <tbody>\n",
       "    <tr>\n",
       "      <th>0</th>\n",
       "      <td>alfa-romero</td>\n",
       "      <td>gas</td>\n",
       "      <td>std</td>\n",
       "      <td>two</td>\n",
       "      <td>convertible</td>\n",
       "      <td>rwd</td>\n",
       "      <td>front</td>\n",
       "      <td>dohc</td>\n",
       "      <td>four</td>\n",
       "      <td>mpfi</td>\n",
       "    </tr>\n",
       "    <tr>\n",
       "      <th>1</th>\n",
       "      <td>alfa-romero</td>\n",
       "      <td>gas</td>\n",
       "      <td>std</td>\n",
       "      <td>two</td>\n",
       "      <td>convertible</td>\n",
       "      <td>rwd</td>\n",
       "      <td>front</td>\n",
       "      <td>dohc</td>\n",
       "      <td>four</td>\n",
       "      <td>mpfi</td>\n",
       "    </tr>\n",
       "    <tr>\n",
       "      <th>2</th>\n",
       "      <td>alfa-romero</td>\n",
       "      <td>gas</td>\n",
       "      <td>std</td>\n",
       "      <td>two</td>\n",
       "      <td>hatchback</td>\n",
       "      <td>rwd</td>\n",
       "      <td>front</td>\n",
       "      <td>ohcv</td>\n",
       "      <td>six</td>\n",
       "      <td>mpfi</td>\n",
       "    </tr>\n",
       "    <tr>\n",
       "      <th>3</th>\n",
       "      <td>audi</td>\n",
       "      <td>gas</td>\n",
       "      <td>std</td>\n",
       "      <td>four</td>\n",
       "      <td>sedan</td>\n",
       "      <td>fwd</td>\n",
       "      <td>front</td>\n",
       "      <td>ohc</td>\n",
       "      <td>four</td>\n",
       "      <td>mpfi</td>\n",
       "    </tr>\n",
       "    <tr>\n",
       "      <th>4</th>\n",
       "      <td>audi</td>\n",
       "      <td>gas</td>\n",
       "      <td>std</td>\n",
       "      <td>four</td>\n",
       "      <td>sedan</td>\n",
       "      <td>4wd</td>\n",
       "      <td>front</td>\n",
       "      <td>ohc</td>\n",
       "      <td>five</td>\n",
       "      <td>mpfi</td>\n",
       "    </tr>\n",
       "  </tbody>\n",
       "</table>\n",
       "</div>"
      ],
      "text/plain": [
       "          make fuel-type aspiration num-of-doors   body-style drive-wheels  \\\n",
       "0  alfa-romero       gas        std          two  convertible          rwd   \n",
       "1  alfa-romero       gas        std          two  convertible          rwd   \n",
       "2  alfa-romero       gas        std          two    hatchback          rwd   \n",
       "3         audi       gas        std         four        sedan          fwd   \n",
       "4         audi       gas        std         four        sedan          4wd   \n",
       "\n",
       "  engine-location engine-type num-of-cylinders fuel-system  \n",
       "0           front        dohc             four        mpfi  \n",
       "1           front        dohc             four        mpfi  \n",
       "2           front        ohcv              six        mpfi  \n",
       "3           front         ohc             four        mpfi  \n",
       "4           front         ohc             five        mpfi  "
      ]
     },
     "execution_count": 20,
     "metadata": {},
     "output_type": "execute_result"
    }
   ],
   "source": [
    "numeric = new[numerical]\n",
    "categoric = new[categorical]\n",
    "categoric.head()"
   ]
  },
  {
   "cell_type": "code",
   "execution_count": 21,
   "id": "2a936111",
   "metadata": {
    "execution": {
     "iopub.execute_input": "2023-03-20T20:55:13.789796Z",
     "iopub.status.busy": "2023-03-20T20:55:13.789358Z",
     "iopub.status.idle": "2023-03-20T20:55:15.957440Z",
     "shell.execute_reply": "2023-03-20T20:55:15.956002Z"
    },
    "papermill": {
     "duration": 2.186196,
     "end_time": "2023-03-20T20:55:15.960189",
     "exception": false,
     "start_time": "2023-03-20T20:55:13.773993",
     "status": "completed"
    },
    "tags": []
   },
   "outputs": [
    {
     "data": {
      "text/plain": [
       "<AxesSubplot: xlabel='fuel-type', ylabel='count'>"
      ]
     },
     "execution_count": 21,
     "metadata": {},
     "output_type": "execute_result"
    },
    {
     "data": {
      "image/png": "[encoded data removed]",
      "text/plain": [
       "<Figure size 1300x1200 with 3 Axes>"
      ]
     },
     "metadata": {},
     "output_type": "display_data"
    },
    {
     "data": {
      "image/png": "[encoded data removed]",
      "text/plain": [
       "<Figure size 1300x1000 with 2 Axes>"
      ]
     },
     "metadata": {},
     "output_type": "display_data"
    }
   ],
   "source": [
    "f=plt.figure(figsize=(13,12))\n",
    "f.add_subplot(3,3,1)\n",
    "sns.countplot(x=numeric['normalized-losses'])\n",
    "f.add_subplot(3,3,2)\n",
    "sns.countplot(x=numeric['symboling'])\n",
    "f.add_subplot(3,3,3)\n",
    "sns.countplot(x=numeric['wheel-base'])\n",
    "\n",
    "f=plt.figure(figsize=(13,10))\n",
    "f.add_subplot(2,2,1)\n",
    "sns.countplot(x=categoric['body-style'])\n",
    "f.add_subplot(2,2,2)\n",
    "sns.countplot(x=categoric['fuel-type'])"
   ]
  },
  {
   "cell_type": "markdown",
   "id": "d62d392a",
   "metadata": {
    "papermill": {
     "duration": 0.014802,
     "end_time": "2023-03-20T20:55:15.990273",
     "exception": false,
     "start_time": "2023-03-20T20:55:15.975471",
     "status": "completed"
    },
    "tags": []
   },
   "source": [
    "**Hasil visualisasi beberapa variabel yang di ukur**\n",
    "## 3. Scatter Plot"
   ]
  },
  {
   "cell_type": "code",
   "execution_count": 22,
   "id": "43f6552a",
   "metadata": {
    "execution": {
     "iopub.execute_input": "2023-03-20T20:55:16.022874Z",
     "iopub.status.busy": "2023-03-20T20:55:16.022162Z",
     "iopub.status.idle": "2023-03-20T20:55:16.680150Z",
     "shell.execute_reply": "2023-03-20T20:55:16.678978Z"
    },
    "papermill": {
     "duration": 0.677634,
     "end_time": "2023-03-20T20:55:16.682903",
     "exception": false,
     "start_time": "2023-03-20T20:55:16.005269",
     "status": "completed"
    },
    "tags": []
   },
   "outputs": [
    {
     "data": {
      "text/plain": [
       "<AxesSubplot: xlabel='highway-mpg', ylabel='price'>"
      ]
     },
     "execution_count": 22,
     "metadata": {},
     "output_type": "execute_result"
    },
    {
     "data": {
      "image/png": "[encoded data removed]",
      "text/plain": [
       "<Figure size 1300x500 with 2 Axes>"
      ]
     },
     "metadata": {},
     "output_type": "display_data"
    }
   ],
   "source": [
    "f=plt.figure(figsize=(13, 5))\n",
    "f.add_subplot(1,2,1)\n",
    "sns.regplot(x=numeric['horsepower'], y=numeric['price'], fit_reg=True)\n",
    "f.add_subplot(1,2,2)\n",
    "sns.regplot(x=numeric['highway-mpg'], y=numeric['price'], fit_reg=True)\n"
   ]
  },
  {
   "cell_type": "markdown",
   "id": "c3bd2d99",
   "metadata": {
    "papermill": {
     "duration": 0.019904,
     "end_time": "2023-03-20T20:55:16.721113",
     "exception": false,
     "start_time": "2023-03-20T20:55:16.701209",
     "status": "completed"
    },
    "tags": []
   },
   "source": [
    "**Dapat dilihat korelasi variabel hoursepower dan highway-mpg terhadap variabel price**\n",
    "## 4. Correlation Plot"
   ]
  },
  {
   "cell_type": "code",
   "execution_count": 23,
   "id": "d0e500f5",
   "metadata": {
    "execution": {
     "iopub.execute_input": "2023-03-20T20:55:16.757552Z",
     "iopub.status.busy": "2023-03-20T20:55:16.756742Z",
     "iopub.status.idle": "2023-03-20T20:55:18.107862Z",
     "shell.execute_reply": "2023-03-20T20:55:18.106407Z"
    },
    "papermill": {
     "duration": 1.374434,
     "end_time": "2023-03-20T20:55:18.112526",
     "exception": false,
     "start_time": "2023-03-20T20:55:16.738092",
     "status": "completed"
    },
    "tags": []
   },
   "outputs": [
    {
     "data": {
      "text/plain": [
       "<AxesSubplot: >"
      ]
     },
     "execution_count": 23,
     "metadata": {},
     "output_type": "execute_result"
    },
    {
     "data": {
      "image/png": "[encoded data removed]",
      "text/plain": [
       "<Figure size 2000x1000 with 2 Axes>"
      ]
     },
     "metadata": {},
     "output_type": "display_data"
    }
   ],
   "source": [
    "#create correlation\n",
    "corr = numeric.corr(method = 'pearson')\n",
    "\n",
    "#convert correlation to numpy array\n",
    "mask = np.array(corr)\n",
    "\n",
    "#to mask the repetitive value for each pair\n",
    "mask[np.tril_indices_from(mask)] = False\n",
    "fig, ax = plt.subplots(figsize = (15,12))\n",
    "fig.set_size_inches(20,10)\n",
    "sns.heatmap(corr, \n",
    "            mask = mask, \n",
    "            vmax = 0.9, \n",
    "            square = True, \n",
    "            annot = True)"
   ]
  },
  {
   "cell_type": "markdown",
   "id": "c70f532f",
   "metadata": {
    "papermill": {
     "duration": 0.022909,
     "end_time": "2023-03-20T20:55:18.158881",
     "exception": false,
     "start_time": "2023-03-20T20:55:18.135972",
     "status": "completed"
    },
    "tags": []
   },
   "source": [
    "**Korelasi antar variabel dapat dilihat pada Heatmap diatas**\n",
    "## 5. Box Plot"
   ]
  },
  {
   "cell_type": "code",
   "execution_count": 24,
   "id": "7b69aa76",
   "metadata": {
    "execution": {
     "iopub.execute_input": "2023-03-20T20:55:18.204868Z",
     "iopub.status.busy": "2023-03-20T20:55:18.204426Z",
     "iopub.status.idle": "2023-03-20T20:55:18.454560Z",
     "shell.execute_reply": "2023-03-20T20:55:18.453617Z"
    },
    "papermill": {
     "duration": 0.274525,
     "end_time": "2023-03-20T20:55:18.457125",
     "exception": false,
     "start_time": "2023-03-20T20:55:18.182600",
     "status": "completed"
    },
    "tags": []
   },
   "outputs": [
    {
     "data": {
      "text/plain": [
       "<AxesSubplot: xlabel='price', ylabel='fuel-type'>"
      ]
     },
     "execution_count": 24,
     "metadata": {},
     "output_type": "execute_result"
    },
    {
     "data": {
      "image/png": "[encoded data removed]",
      "text/plain": [
       "<Figure size 1300x1300 with 1 Axes>"
      ]
     },
     "metadata": {},
     "output_type": "display_data"
    }
   ],
   "source": [
    "f=plt.figure(figsize=(13,13))\n",
    "f.add_subplot(3,1,1)\n",
    "sns.boxplot(y=new[\"fuel-type\"], x=new['price'])"
   ]
  },
  {
   "cell_type": "markdown",
   "id": "b660cf5d",
   "metadata": {
    "papermill": {
     "duration": 0.021224,
     "end_time": "2023-03-20T20:55:18.499185",
     "exception": false,
     "start_time": "2023-03-20T20:55:18.477961",
     "status": "completed"
    },
    "tags": []
   },
   "source": [
    "**Hubungan antara variabel fuel-type terhadap variabel price**"
   ]
  },
  {
   "cell_type": "markdown",
   "id": "ab8d7d3c",
   "metadata": {
    "papermill": {
     "duration": 0.020253,
     "end_time": "2023-03-20T20:55:18.539796",
     "exception": false,
     "start_time": "2023-03-20T20:55:18.519543",
     "status": "completed"
    },
    "tags": []
   },
   "source": [
    "# 1. Car Brand with highest price "
   ]
  },
  {
   "cell_type": "code",
   "execution_count": 25,
   "id": "68f6fc0b",
   "metadata": {
    "execution": {
     "iopub.execute_input": "2023-03-20T20:55:18.582325Z",
     "iopub.status.busy": "2023-03-20T20:55:18.581912Z",
     "iopub.status.idle": "2023-03-20T20:55:18.595067Z",
     "shell.execute_reply": "2023-03-20T20:55:18.593900Z"
    },
    "papermill": {
     "duration": 0.037225,
     "end_time": "2023-03-20T20:55:18.597438",
     "exception": false,
     "start_time": "2023-03-20T20:55:18.560213",
     "status": "completed"
    },
    "tags": []
   },
   "outputs": [
    {
     "data": {
      "text/html": [
       "<div>\n",
       "<style scoped>\n",
       "    .dataframe tbody tr th:only-of-type {\n",
       "        vertical-align: middle;\n",
       "    }\n",
       "\n",
       "    .dataframe tbody tr th {\n",
       "        vertical-align: top;\n",
       "    }\n",
       "\n",
       "    .dataframe thead th {\n",
       "        text-align: right;\n",
       "    }\n",
       "</style>\n",
       "<table border=\"1\" class=\"dataframe\">\n",
       "  <thead>\n",
       "    <tr style=\"text-align: right;\">\n",
       "      <th></th>\n",
       "      <th>make</th>\n",
       "      <th>price</th>\n",
       "    </tr>\n",
       "  </thead>\n",
       "  <tbody>\n",
       "    <tr>\n",
       "      <th>74</th>\n",
       "      <td>mercedes-benz</td>\n",
       "      <td>45400.0</td>\n",
       "    </tr>\n",
       "  </tbody>\n",
       "</table>\n",
       "</div>"
      ],
      "text/plain": [
       "             make    price\n",
       "74  mercedes-benz  45400.0"
      ]
     },
     "execution_count": 25,
     "metadata": {},
     "output_type": "execute_result"
    }
   ],
   "source": [
    "\n",
    "hp = ['make', 'price']\n",
    "result = new[hp].sort_values('price', ascending=False)\n",
    "result.head(1)"
   ]
  },
  {
   "cell_type": "markdown",
   "id": "68bb2436",
   "metadata": {
    "papermill": {
     "duration": 0.021233,
     "end_time": "2023-03-20T20:55:18.639287",
     "exception": false,
     "start_time": "2023-03-20T20:55:18.618054",
     "status": "completed"
    },
    "tags": []
   },
   "source": [
    "# 2. Maximum horsepower for car with 6 cylinder engine"
   ]
  },
  {
   "cell_type": "code",
   "execution_count": 26,
   "id": "50d29700",
   "metadata": {
    "execution": {
     "iopub.execute_input": "2023-03-20T20:55:18.682476Z",
     "iopub.status.busy": "2023-03-20T20:55:18.682066Z",
     "iopub.status.idle": "2023-03-20T20:55:18.696906Z",
     "shell.execute_reply": "2023-03-20T20:55:18.695618Z"
    },
    "papermill": {
     "duration": 0.039143,
     "end_time": "2023-03-20T20:55:18.699281",
     "exception": false,
     "start_time": "2023-03-20T20:55:18.660138",
     "status": "completed"
    },
    "tags": []
   },
   "outputs": [
    {
     "data": {
      "text/html": [
       "<div>\n",
       "<style scoped>\n",
       "    .dataframe tbody tr th:only-of-type {\n",
       "        vertical-align: middle;\n",
       "    }\n",
       "\n",
       "    .dataframe tbody tr th {\n",
       "        vertical-align: top;\n",
       "    }\n",
       "\n",
       "    .dataframe thead th {\n",
       "        text-align: right;\n",
       "    }\n",
       "</style>\n",
       "<table border=\"1\" class=\"dataframe\">\n",
       "  <thead>\n",
       "    <tr style=\"text-align: right;\">\n",
       "      <th></th>\n",
       "      <th>make</th>\n",
       "      <th>num-of-cylinders</th>\n",
       "      <th>horsepower</th>\n",
       "    </tr>\n",
       "  </thead>\n",
       "  <tbody>\n",
       "    <tr>\n",
       "      <th>126</th>\n",
       "      <td>porsche</td>\n",
       "      <td>six</td>\n",
       "      <td>207.0</td>\n",
       "    </tr>\n",
       "    <tr>\n",
       "      <th>128</th>\n",
       "      <td>porsche</td>\n",
       "      <td>six</td>\n",
       "      <td>207.0</td>\n",
       "    </tr>\n",
       "    <tr>\n",
       "      <th>127</th>\n",
       "      <td>porsche</td>\n",
       "      <td>six</td>\n",
       "      <td>207.0</td>\n",
       "    </tr>\n",
       "    <tr>\n",
       "      <th>105</th>\n",
       "      <td>nissan</td>\n",
       "      <td>six</td>\n",
       "      <td>200.0</td>\n",
       "    </tr>\n",
       "    <tr>\n",
       "      <th>15</th>\n",
       "      <td>bmw</td>\n",
       "      <td>six</td>\n",
       "      <td>182.0</td>\n",
       "    </tr>\n",
       "  </tbody>\n",
       "</table>\n",
       "</div>"
      ],
      "text/plain": [
       "        make num-of-cylinders  horsepower\n",
       "126  porsche              six       207.0\n",
       "128  porsche              six       207.0\n",
       "127  porsche              six       207.0\n",
       "105   nissan              six       200.0\n",
       "15       bmw              six       182.0"
      ]
     },
     "execution_count": 26,
     "metadata": {},
     "output_type": "execute_result"
    }
   ],
   "source": [
    "result = new[new['num-of-cylinders']=='six'].sort_values('horsepower', ascending=False)\n",
    "result[['make', 'num-of-cylinders', 'horsepower']].head()"
   ]
  },
  {
   "cell_type": "markdown",
   "id": "dca7af07",
   "metadata": {
    "papermill": {
     "duration": 0.020024,
     "end_time": "2023-03-20T20:55:18.739756",
     "exception": false,
     "start_time": "2023-03-20T20:55:18.719732",
     "status": "completed"
    },
    "tags": []
   },
   "source": [
    "# 3. Average peak-rpm for ‘turbo’ style aspiration car"
   ]
  },
  {
   "cell_type": "code",
   "execution_count": 27,
   "id": "7db23fd7",
   "metadata": {
    "execution": {
     "iopub.execute_input": "2023-03-20T20:55:18.784333Z",
     "iopub.status.busy": "2023-03-20T20:55:18.783170Z",
     "iopub.status.idle": "2023-03-20T20:55:18.791834Z",
     "shell.execute_reply": "2023-03-20T20:55:18.790907Z"
    },
    "papermill": {
     "duration": 0.033529,
     "end_time": "2023-03-20T20:55:18.794156",
     "exception": false,
     "start_time": "2023-03-20T20:55:18.760627",
     "status": "completed"
    },
    "tags": []
   },
   "outputs": [
    {
     "data": {
      "text/plain": [
       "4939.189189189189"
      ]
     },
     "execution_count": 27,
     "metadata": {},
     "output_type": "execute_result"
    }
   ],
   "source": [
    "result = new[new['aspiration']=='turbo']['peak-rpm'].mean()\n",
    "result"
   ]
  },
  {
   "cell_type": "markdown",
   "id": "986c3830",
   "metadata": {
    "papermill": {
     "duration": 0.020199,
     "end_time": "2023-03-20T20:55:18.834856",
     "exception": false,
     "start_time": "2023-03-20T20:55:18.814657",
     "status": "completed"
    },
    "tags": []
   },
   "source": [
    "# 4. Average price based on body-style"
   ]
  },
  {
   "cell_type": "code",
   "execution_count": 28,
   "id": "8f4e5d24",
   "metadata": {
    "execution": {
     "iopub.execute_input": "2023-03-20T20:55:18.878784Z",
     "iopub.status.busy": "2023-03-20T20:55:18.877525Z",
     "iopub.status.idle": "2023-03-20T20:55:18.889985Z",
     "shell.execute_reply": "2023-03-20T20:55:18.888766Z"
    },
    "papermill": {
     "duration": 0.036994,
     "end_time": "2023-03-20T20:55:18.892536",
     "exception": false,
     "start_time": "2023-03-20T20:55:18.855542",
     "status": "completed"
    },
    "tags": []
   },
   "outputs": [
    {
     "data": {
      "text/plain": [
       "body-style\n",
       "convertible    21890.500000\n",
       "hardtop        22208.500000\n",
       "hatchback       9967.085714\n",
       "sedan          14372.989583\n",
       "wagon          12371.960000\n",
       "Name: price, dtype: float64"
      ]
     },
     "execution_count": 28,
     "metadata": {},
     "output_type": "execute_result"
    }
   ],
   "source": [
    "result = new.groupby('body-style')\n",
    "result = result['price'].mean()\n",
    "result"
   ]
  },
  {
   "cell_type": "markdown",
   "id": "b31c5694",
   "metadata": {
    "papermill": {
     "duration": 0.020374,
     "end_time": "2023-03-20T20:55:18.933592",
     "exception": false,
     "start_time": "2023-03-20T20:55:18.913218",
     "status": "completed"
    },
    "tags": []
   },
   "source": [
    "# 5. Average price based on body-style only for Honda car (make=Honda)"
   ]
  },
  {
   "cell_type": "code",
   "execution_count": 29,
   "id": "14f23e31",
   "metadata": {
    "execution": {
     "iopub.execute_input": "2023-03-20T20:55:18.977507Z",
     "iopub.status.busy": "2023-03-20T20:55:18.976771Z",
     "iopub.status.idle": "2023-03-20T20:55:18.986029Z",
     "shell.execute_reply": "2023-03-20T20:55:18.985212Z"
    },
    "papermill": {
     "duration": 0.03416,
     "end_time": "2023-03-20T20:55:18.988418",
     "exception": false,
     "start_time": "2023-03-20T20:55:18.954258",
     "status": "completed"
    },
    "tags": []
   },
   "outputs": [
    {
     "data": {
      "text/plain": [
       "body-style\n",
       "hatchback    7054.428571\n",
       "sedan        9945.000000\n",
       "wagon        7295.000000\n",
       "Name: price, dtype: float64"
      ]
     },
     "execution_count": 29,
     "metadata": {},
     "output_type": "execute_result"
    }
   ],
   "source": [
    "result = new[new['make']=='honda'].groupby('body-style')\n",
    "result = result['price'].mean()\n",
    "result"
   ]
  }
 ],
 "metadata": {
  "kernelspec": {
   "display_name": "Python 3",
   "language": "python",
   "name": "python3"
  },
  "language_info": {
   "codemirror_mode": {
    "name": "ipython",
    "version": 3
   },
   "file_extension": ".py",
   "mimetype": "text/x-python",
   "name": "python",
   "nbconvert_exporter": "python",
   "pygments_lexer": "ipython3",
   "version": "3.9.16"
  },
  "papermill": {
   "default_parameters": {},
   "duration": 19.48532,
   "end_time": "2023-03-20T20:55:19.833095",
   "environment_variables": {},
   "exception": null,
   "input_path": "__notebook__.ipynb",
   "output_path": "__notebook__.ipynb",
   "parameters": {},
   "start_time": "2023-03-20T20:55:00.347775",
   "version": "2.4.0"
  }
 },
 "nbformat": 4,
 "nbformat_minor": 5
}
